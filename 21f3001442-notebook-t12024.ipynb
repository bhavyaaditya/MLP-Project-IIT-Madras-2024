{
 "cells": [
  {
   "cell_type": "code",
   "execution_count": 1,
   "id": "3f9a8e85",
   "metadata": {
    "_cell_guid": "b1076dfc-b9ad-4769-8c92-a6c4dae69d19",
    "_uuid": "8f2839f25d086af736a60e9eeb907d3b93b6e0e5",
    "execution": {
     "iopub.execute_input": "2024-04-10T13:05:03.966859Z",
     "iopub.status.busy": "2024-04-10T13:05:03.966038Z",
     "iopub.status.idle": "2024-04-10T13:05:04.789215Z",
     "shell.execute_reply": "2024-04-10T13:05:04.788096Z"
    },
    "id": "SgsUr3dCExw1",
    "outputId": "a349adeb-af05-40a2-fc4c-7cf481fe9bb3",
    "papermill": {
     "duration": 0.846031,
     "end_time": "2024-04-10T13:05:04.791870",
     "exception": false,
     "start_time": "2024-04-10T13:05:03.945839",
     "status": "completed"
    },
    "tags": []
   },
   "outputs": [
    {
     "name": "stdout",
     "output_type": "stream",
     "text": [
      "/kaggle/input/recipe-for-rating-predict-food-ratings-using-ml/sample.csv\n",
      "/kaggle/input/recipe-for-rating-predict-food-ratings-using-ml/train.csv\n",
      "/kaggle/input/recipe-for-rating-predict-food-ratings-using-ml/test.csv\n"
     ]
    }
   ],
   "source": [
    "# This Python 3 environment comes with many helpful analytics libraries installed\n",
    "# It is defined by the kaggle/python Docker image: https://github.com/kaggle/docker-python\n",
    "# For example, here's several helpful packages to load\n",
    "\n",
    "import numpy as np # linear algebra\n",
    "import pandas as pd # data processing, CSV file I/O (e.g. pd.read_csv)\n",
    "\n",
    "# Input data files are available in the read-only \"../input/\" directory\n",
    "# For example, running this (by clicking run or pressing Shift+Enter) will list all files under the input directory\n",
    "\n",
    "import os\n",
    "for dirname, _, filenames in os.walk('/kaggle/input'):\n",
    "    for filename in filenames:\n",
    "        print(os.path.join(dirname, filename))\n",
    "\n",
    "# You can write up to 20GB to the current directory (/kaggle/working/) that gets preserved as output when you create a version using \"Save & Run All\"\n",
    "# You can also write temporary files to /kaggle/temp/, but they won't be saved outside of the current session"
   ]
  },
  {
   "cell_type": "markdown",
   "id": "e41cced5",
   "metadata": {
    "id": "Ew_M3lwRPsDF",
    "papermill": {
     "duration": 0.018394,
     "end_time": "2024-04-10T13:05:04.828417",
     "exception": false,
     "start_time": "2024-04-10T13:05:04.810023",
     "status": "completed"
    },
    "tags": []
   },
   "source": [
    "# Imports\n"
   ]
  },
  {
   "cell_type": "code",
   "execution_count": 2,
   "id": "98b85425",
   "metadata": {
    "execution": {
     "iopub.execute_input": "2024-04-10T13:05:04.864956Z",
     "iopub.status.busy": "2024-04-10T13:05:04.863867Z",
     "iopub.status.idle": "2024-04-10T13:05:06.717953Z",
     "shell.execute_reply": "2024-04-10T13:05:06.716668Z"
    },
    "id": "Dc-AvqJoExw2",
    "papermill": {
     "duration": 1.875511,
     "end_time": "2024-04-10T13:05:06.720844",
     "exception": false,
     "start_time": "2024-04-10T13:05:04.845333",
     "status": "completed"
    },
    "tags": []
   },
   "outputs": [],
   "source": [
    "# Ignore Warnings\n",
    "import warnings\n",
    "def warn(*args, **kwargs):\n",
    "    pass\n",
    "warnings.warn = warn\n",
    "\n",
    "import pandas as pd\n",
    "import numpy as np\n",
    "import matplotlib.pyplot as plt\n",
    "import seaborn as sns\n",
    "\n",
    "from sklearn.model_selection import train_test_split, GridSearchCV\n",
    "from sklearn.feature_extraction.text import TfidfVectorizer\n",
    "from sklearn.pipeline import Pipeline\n",
    "from sklearn.neighbors import KNeighborsClassifier\n",
    "from sklearn.linear_model import LogisticRegression\n",
    "import sklearn.metrics as skm\n",
    "\n",
    "from xgboost import XGBClassifier\n",
    "\n",
    "# Suppress scientific notation in pandas\n",
    "pd.options.display.float_format = \"{:.2f}\".format\n",
    "# Show sklearn pipeline diagram\n",
    "from sklearn import set_config\n",
    "set_config(display='diagram')\n",
    "# Suppress scientific notation in numpy\n",
    "np.set_printoptions(suppress=True)"
   ]
  },
  {
   "cell_type": "markdown",
   "id": "71119e83",
   "metadata": {
    "id": "KtTEtOO8Px4o",
    "papermill": {
     "duration": 0.01775,
     "end_time": "2024-04-10T13:05:06.756514",
     "exception": false,
     "start_time": "2024-04-10T13:05:06.738764",
     "status": "completed"
    },
    "tags": []
   },
   "source": [
    "# Load Dataset\n"
   ]
  },
  {
   "cell_type": "code",
   "execution_count": 3,
   "id": "75f99eca",
   "metadata": {
    "execution": {
     "iopub.execute_input": "2024-04-10T13:05:06.794804Z",
     "iopub.status.busy": "2024-04-10T13:05:06.793544Z",
     "iopub.status.idle": "2024-04-10T13:05:07.013368Z",
     "shell.execute_reply": "2024-04-10T13:05:07.012340Z"
    },
    "id": "ZsJj3e-TExw3",
    "outputId": "aa0190a4-416b-4c2e-a273-edf9f143f627",
    "papermill": {
     "duration": 0.241726,
     "end_time": "2024-04-10T13:05:07.016116",
     "exception": false,
     "start_time": "2024-04-10T13:05:06.774390",
     "status": "completed"
    },
    "tags": []
   },
   "outputs": [],
   "source": [
    "trainCSV = pd.read_csv(r\"/kaggle/input/recipe-for-rating-predict-food-ratings-using-ml/train.csv\")\n",
    "testCSV = pd.read_csv(r\"/kaggle/input/recipe-for-rating-predict-food-ratings-using-ml/test.csv\")"
   ]
  },
  {
   "cell_type": "markdown",
   "id": "cf8f801a",
   "metadata": {
    "id": "-NvGgUyNlzHX",
    "papermill": {
     "duration": 0.016837,
     "end_time": "2024-04-10T13:05:07.050779",
     "exception": false,
     "start_time": "2024-04-10T13:05:07.033942",
     "status": "completed"
    },
    "tags": []
   },
   "source": [
    "# Exploratory Data Analysis\n"
   ]
  },
  {
   "cell_type": "markdown",
   "id": "e9f177f6",
   "metadata": {
    "id": "AWLqfS3vl0AE",
    "papermill": {
     "duration": 0.017041,
     "end_time": "2024-04-10T13:05:07.085425",
     "exception": false,
     "start_time": "2024-04-10T13:05:07.068384",
     "status": "completed"
    },
    "tags": []
   },
   "source": [
    "## Snippet of Datasets\n"
   ]
  },
  {
   "cell_type": "code",
   "execution_count": 4,
   "id": "d6f4e3fa",
   "metadata": {
    "execution": {
     "iopub.execute_input": "2024-04-10T13:05:07.122905Z",
     "iopub.status.busy": "2024-04-10T13:05:07.122103Z",
     "iopub.status.idle": "2024-04-10T13:05:07.143780Z",
     "shell.execute_reply": "2024-04-10T13:05:07.142637Z"
    },
    "id": "AaigNlp1l7vo",
    "papermill": {
     "duration": 0.042756,
     "end_time": "2024-04-10T13:05:07.145966",
     "exception": false,
     "start_time": "2024-04-10T13:05:07.103210",
     "status": "completed"
    },
    "tags": []
   },
   "outputs": [
    {
     "data": {
      "text/html": [
       "<div>\n",
       "<style scoped>\n",
       "    .dataframe tbody tr th:only-of-type {\n",
       "        vertical-align: middle;\n",
       "    }\n",
       "\n",
       "    .dataframe tbody tr th {\n",
       "        vertical-align: top;\n",
       "    }\n",
       "\n",
       "    .dataframe thead th {\n",
       "        text-align: right;\n",
       "    }\n",
       "</style>\n",
       "<table border=\"1\" class=\"dataframe\">\n",
       "  <thead>\n",
       "    <tr style=\"text-align: right;\">\n",
       "      <th></th>\n",
       "      <th>ID</th>\n",
       "      <th>RecipeNumber</th>\n",
       "      <th>RecipeCode</th>\n",
       "      <th>RecipeName</th>\n",
       "      <th>CommentID</th>\n",
       "      <th>UserID</th>\n",
       "      <th>UserName</th>\n",
       "      <th>UserReputation</th>\n",
       "      <th>CreationTimestamp</th>\n",
       "      <th>ReplyCount</th>\n",
       "      <th>ThumbsUpCount</th>\n",
       "      <th>ThumbsDownCount</th>\n",
       "      <th>Rating</th>\n",
       "      <th>BestScore</th>\n",
       "      <th>Recipe_Review</th>\n",
       "    </tr>\n",
       "  </thead>\n",
       "  <tbody>\n",
       "    <tr>\n",
       "      <th>0</th>\n",
       "      <td>70</td>\n",
       "      <td>71</td>\n",
       "      <td>12259</td>\n",
       "      <td>Banana Bars with Cream Cheese Frosting</td>\n",
       "      <td>sp_aUSaElGf_12259_c_149978</td>\n",
       "      <td>u_1oKVaBmiEKwAFyiHrDLoWpbel0J</td>\n",
       "      <td>misscoffeepot</td>\n",
       "      <td>20</td>\n",
       "      <td>1622717078</td>\n",
       "      <td>0</td>\n",
       "      <td>0</td>\n",
       "      <td>0</td>\n",
       "      <td>5</td>\n",
       "      <td>100</td>\n",
       "      <td>great recipe! I have made them just as written...</td>\n",
       "    </tr>\n",
       "    <tr>\n",
       "      <th>1</th>\n",
       "      <td>72</td>\n",
       "      <td>88</td>\n",
       "      <td>8202</td>\n",
       "      <td>Simple Taco Soup</td>\n",
       "      <td>sp_aUSaElGf_8202_c_310332</td>\n",
       "      <td>u_1oKZeRIXYzGNhGW8OMR3O4lX1ih</td>\n",
       "      <td>MichelleMalone</td>\n",
       "      <td>1</td>\n",
       "      <td>1622717852</td>\n",
       "      <td>0</td>\n",
       "      <td>0</td>\n",
       "      <td>1</td>\n",
       "      <td>5</td>\n",
       "      <td>100</td>\n",
       "      <td>This is an easy and quick recipe that is great...</td>\n",
       "    </tr>\n",
       "    <tr>\n",
       "      <th>2</th>\n",
       "      <td>458</td>\n",
       "      <td>3</td>\n",
       "      <td>2832</td>\n",
       "      <td>Cheeseburger Soup</td>\n",
       "      <td>sp_aUSaElGf_2832_c_206522</td>\n",
       "      <td>u_1oKYHUtdaD48KJCDYq5wfpAUxWz</td>\n",
       "      <td>jeannem32</td>\n",
       "      <td>1</td>\n",
       "      <td>1622717357</td>\n",
       "      <td>0</td>\n",
       "      <td>0</td>\n",
       "      <td>0</td>\n",
       "      <td>3</td>\n",
       "      <td>100</td>\n",
       "      <td>I think I was looking for something extra spec...</td>\n",
       "    </tr>\n",
       "    <tr>\n",
       "      <th>3</th>\n",
       "      <td>7</td>\n",
       "      <td>50</td>\n",
       "      <td>100276</td>\n",
       "      <td>Grilled Huli Huli Chicken</td>\n",
       "      <td>sp_aUSaElGf_100276_c_434088</td>\n",
       "      <td>u_1oKZCQcKQZdQhDVBS7oISc216VA</td>\n",
       "      <td>ds422</td>\n",
       "      <td>1</td>\n",
       "      <td>1622648899</td>\n",
       "      <td>0</td>\n",
       "      <td>0</td>\n",
       "      <td>0</td>\n",
       "      <td>5</td>\n",
       "      <td>100</td>\n",
       "      <td>This is our favorite grilled chicken recipe.  ...</td>\n",
       "    </tr>\n",
       "    <tr>\n",
       "      <th>4</th>\n",
       "      <td>60</td>\n",
       "      <td>12</td>\n",
       "      <td>19731</td>\n",
       "      <td>Cauliflower Soup</td>\n",
       "      <td>sp_aUSaElGf_19731_c_387011</td>\n",
       "      <td>u_1oKd4sudZQPgu6YALiC7bW7mKMs</td>\n",
       "      <td>SusanHoward</td>\n",
       "      <td>1</td>\n",
       "      <td>1622718260</td>\n",
       "      <td>0</td>\n",
       "      <td>0</td>\n",
       "      <td>0</td>\n",
       "      <td>4</td>\n",
       "      <td>100</td>\n",
       "      <td>Great basic recipe. I added 2 teaspoons Tuscan...</td>\n",
       "    </tr>\n",
       "  </tbody>\n",
       "</table>\n",
       "</div>"
      ],
      "text/plain": [
       "    ID  RecipeNumber  RecipeCode                              RecipeName  \\\n",
       "0   70            71       12259  Banana Bars with Cream Cheese Frosting   \n",
       "1   72            88        8202                        Simple Taco Soup   \n",
       "2  458             3        2832                       Cheeseburger Soup   \n",
       "3    7            50      100276               Grilled Huli Huli Chicken   \n",
       "4   60            12       19731                        Cauliflower Soup   \n",
       "\n",
       "                     CommentID                         UserID        UserName  \\\n",
       "0   sp_aUSaElGf_12259_c_149978  u_1oKVaBmiEKwAFyiHrDLoWpbel0J   misscoffeepot   \n",
       "1    sp_aUSaElGf_8202_c_310332  u_1oKZeRIXYzGNhGW8OMR3O4lX1ih  MichelleMalone   \n",
       "2    sp_aUSaElGf_2832_c_206522  u_1oKYHUtdaD48KJCDYq5wfpAUxWz       jeannem32   \n",
       "3  sp_aUSaElGf_100276_c_434088  u_1oKZCQcKQZdQhDVBS7oISc216VA           ds422   \n",
       "4   sp_aUSaElGf_19731_c_387011  u_1oKd4sudZQPgu6YALiC7bW7mKMs     SusanHoward   \n",
       "\n",
       "   UserReputation  CreationTimestamp  ReplyCount  ThumbsUpCount  \\\n",
       "0              20         1622717078           0              0   \n",
       "1               1         1622717852           0              0   \n",
       "2               1         1622717357           0              0   \n",
       "3               1         1622648899           0              0   \n",
       "4               1         1622718260           0              0   \n",
       "\n",
       "   ThumbsDownCount  Rating  BestScore  \\\n",
       "0                0       5        100   \n",
       "1                1       5        100   \n",
       "2                0       3        100   \n",
       "3                0       5        100   \n",
       "4                0       4        100   \n",
       "\n",
       "                                       Recipe_Review  \n",
       "0  great recipe! I have made them just as written...  \n",
       "1  This is an easy and quick recipe that is great...  \n",
       "2  I think I was looking for something extra spec...  \n",
       "3  This is our favorite grilled chicken recipe.  ...  \n",
       "4  Great basic recipe. I added 2 teaspoons Tuscan...  "
      ]
     },
     "execution_count": 4,
     "metadata": {},
     "output_type": "execute_result"
    }
   ],
   "source": [
    "trainCSV.head(5)"
   ]
  },
  {
   "cell_type": "code",
   "execution_count": 5,
   "id": "eaeac58f",
   "metadata": {
    "execution": {
     "iopub.execute_input": "2024-04-10T13:05:07.183303Z",
     "iopub.status.busy": "2024-04-10T13:05:07.182817Z",
     "iopub.status.idle": "2024-04-10T13:05:07.198159Z",
     "shell.execute_reply": "2024-04-10T13:05:07.197205Z"
    },
    "id": "bBYyajmal9GF",
    "papermill": {
     "duration": 0.036814,
     "end_time": "2024-04-10T13:05:07.200510",
     "exception": false,
     "start_time": "2024-04-10T13:05:07.163696",
     "status": "completed"
    },
    "tags": []
   },
   "outputs": [
    {
     "data": {
      "text/html": [
       "<div>\n",
       "<style scoped>\n",
       "    .dataframe tbody tr th:only-of-type {\n",
       "        vertical-align: middle;\n",
       "    }\n",
       "\n",
       "    .dataframe tbody tr th {\n",
       "        vertical-align: top;\n",
       "    }\n",
       "\n",
       "    .dataframe thead th {\n",
       "        text-align: right;\n",
       "    }\n",
       "</style>\n",
       "<table border=\"1\" class=\"dataframe\">\n",
       "  <thead>\n",
       "    <tr style=\"text-align: right;\">\n",
       "      <th></th>\n",
       "      <th>ID</th>\n",
       "      <th>RecipeNumber</th>\n",
       "      <th>RecipeCode</th>\n",
       "      <th>RecipeName</th>\n",
       "      <th>CommentID</th>\n",
       "      <th>UserID</th>\n",
       "      <th>UserName</th>\n",
       "      <th>UserReputation</th>\n",
       "      <th>CreationTimestamp</th>\n",
       "      <th>ReplyCount</th>\n",
       "      <th>ThumbsUpCount</th>\n",
       "      <th>ThumbsDownCount</th>\n",
       "      <th>BestScore</th>\n",
       "      <th>Recipe_Review</th>\n",
       "    </tr>\n",
       "  </thead>\n",
       "  <tbody>\n",
       "    <tr>\n",
       "      <th>0</th>\n",
       "      <td>86</td>\n",
       "      <td>45</td>\n",
       "      <td>41384</td>\n",
       "      <td>Black Bean ‘n’ Pumpkin Chili</td>\n",
       "      <td>sp_aUSaElGf_41384_c_341929</td>\n",
       "      <td>u_1oKc4U6bh65cEli8Z8eTIf98Vpr</td>\n",
       "      <td>kalloween</td>\n",
       "      <td>1</td>\n",
       "      <td>1622718043</td>\n",
       "      <td>0</td>\n",
       "      <td>0</td>\n",
       "      <td>0</td>\n",
       "      <td>100</td>\n",
       "      <td>This was so good!!  The pumpkin was perfect as...</td>\n",
       "    </tr>\n",
       "    <tr>\n",
       "      <th>1</th>\n",
       "      <td>102</td>\n",
       "      <td>53</td>\n",
       "      <td>3143</td>\n",
       "      <td>Pumpkin Bars</td>\n",
       "      <td>sp_aUSaElGf_3143_c_274545</td>\n",
       "      <td>u_1oKW5seFLQMSwAeOfBVmwJizy5D</td>\n",
       "      <td>chocolate desert</td>\n",
       "      <td>1</td>\n",
       "      <td>1622717685</td>\n",
       "      <td>0</td>\n",
       "      <td>0</td>\n",
       "      <td>1</td>\n",
       "      <td>100</td>\n",
       "      <td>So good!   Could not stop eating them, so bad....</td>\n",
       "    </tr>\n",
       "    <tr>\n",
       "      <th>2</th>\n",
       "      <td>156</td>\n",
       "      <td>53</td>\n",
       "      <td>3143</td>\n",
       "      <td>Pumpkin Bars</td>\n",
       "      <td>sp_aUSaElGf_3143_c_398512</td>\n",
       "      <td>u_1oKZ6GUIAIol8xe6oEI7t1Mpxdz</td>\n",
       "      <td>Vantreesta</td>\n",
       "      <td>1</td>\n",
       "      <td>1622718307</td>\n",
       "      <td>0</td>\n",
       "      <td>0</td>\n",
       "      <td>0</td>\n",
       "      <td>100</td>\n",
       "      <td>I use a small ladle to fill muffin cups.</td>\n",
       "    </tr>\n",
       "    <tr>\n",
       "      <th>3</th>\n",
       "      <td>18</td>\n",
       "      <td>89</td>\n",
       "      <td>1324</td>\n",
       "      <td>Porcupine Meatballs</td>\n",
       "      <td>sp_aUSaElGf_1324_c_431662</td>\n",
       "      <td>u_1oKWCP33NVk4Osfpu4VJuIckEF0</td>\n",
       "      <td>Roberta L.Beauchamp</td>\n",
       "      <td>1</td>\n",
       "      <td>1622648872</td>\n",
       "      <td>0</td>\n",
       "      <td>4</td>\n",
       "      <td>3</td>\n",
       "      <td>212</td>\n",
       "      <td>I made this and followed the instructions as d...</td>\n",
       "    </tr>\n",
       "    <tr>\n",
       "      <th>4</th>\n",
       "      <td>27</td>\n",
       "      <td>70</td>\n",
       "      <td>32264</td>\n",
       "      <td>Easy Chicken Enchiladas</td>\n",
       "      <td>sp_aUSaElGf_32264_c_423935</td>\n",
       "      <td>u_1oKVhIJMuUlrSCVkbO1jheVTol8</td>\n",
       "      <td>fhquilting</td>\n",
       "      <td>1</td>\n",
       "      <td>1622718460</td>\n",
       "      <td>0</td>\n",
       "      <td>0</td>\n",
       "      <td>1</td>\n",
       "      <td>100</td>\n",
       "      <td>Very Good!  I used corn tortillas.  Used fresh...</td>\n",
       "    </tr>\n",
       "  </tbody>\n",
       "</table>\n",
       "</div>"
      ],
      "text/plain": [
       "    ID  RecipeNumber  RecipeCode                    RecipeName  \\\n",
       "0   86            45       41384  Black Bean ‘n’ Pumpkin Chili   \n",
       "1  102            53        3143                  Pumpkin Bars   \n",
       "2  156            53        3143                  Pumpkin Bars   \n",
       "3   18            89        1324           Porcupine Meatballs   \n",
       "4   27            70       32264       Easy Chicken Enchiladas   \n",
       "\n",
       "                    CommentID                         UserID  \\\n",
       "0  sp_aUSaElGf_41384_c_341929  u_1oKc4U6bh65cEli8Z8eTIf98Vpr   \n",
       "1   sp_aUSaElGf_3143_c_274545  u_1oKW5seFLQMSwAeOfBVmwJizy5D   \n",
       "2   sp_aUSaElGf_3143_c_398512  u_1oKZ6GUIAIol8xe6oEI7t1Mpxdz   \n",
       "3   sp_aUSaElGf_1324_c_431662  u_1oKWCP33NVk4Osfpu4VJuIckEF0   \n",
       "4  sp_aUSaElGf_32264_c_423935  u_1oKVhIJMuUlrSCVkbO1jheVTol8   \n",
       "\n",
       "              UserName  UserReputation  CreationTimestamp  ReplyCount  \\\n",
       "0            kalloween               1         1622718043           0   \n",
       "1     chocolate desert               1         1622717685           0   \n",
       "2           Vantreesta               1         1622718307           0   \n",
       "3  Roberta L.Beauchamp               1         1622648872           0   \n",
       "4           fhquilting               1         1622718460           0   \n",
       "\n",
       "   ThumbsUpCount  ThumbsDownCount  BestScore  \\\n",
       "0              0                0        100   \n",
       "1              0                1        100   \n",
       "2              0                0        100   \n",
       "3              4                3        212   \n",
       "4              0                1        100   \n",
       "\n",
       "                                       Recipe_Review  \n",
       "0  This was so good!!  The pumpkin was perfect as...  \n",
       "1  So good!   Could not stop eating them, so bad....  \n",
       "2           I use a small ladle to fill muffin cups.  \n",
       "3  I made this and followed the instructions as d...  \n",
       "4  Very Good!  I used corn tortillas.  Used fresh...  "
      ]
     },
     "execution_count": 5,
     "metadata": {},
     "output_type": "execute_result"
    }
   ],
   "source": [
    "testCSV.head(5)"
   ]
  },
  {
   "cell_type": "markdown",
   "id": "6dd9f346",
   "metadata": {
    "id": "CjLzbxVbmC36",
    "papermill": {
     "duration": 0.017833,
     "end_time": "2024-04-10T13:05:07.236740",
     "exception": false,
     "start_time": "2024-04-10T13:05:07.218907",
     "status": "completed"
    },
    "tags": []
   },
   "source": [
    "## Shapes of Datasets\n"
   ]
  },
  {
   "cell_type": "code",
   "execution_count": 6,
   "id": "240d7a78",
   "metadata": {
    "execution": {
     "iopub.execute_input": "2024-04-10T13:05:07.275431Z",
     "iopub.status.busy": "2024-04-10T13:05:07.274978Z",
     "iopub.status.idle": "2024-04-10T13:05:07.280233Z",
     "shell.execute_reply": "2024-04-10T13:05:07.279228Z"
    },
    "id": "4Ufmm2IEmCMf",
    "papermill": {
     "duration": 0.027091,
     "end_time": "2024-04-10T13:05:07.282450",
     "exception": false,
     "start_time": "2024-04-10T13:05:07.255359",
     "status": "completed"
    },
    "tags": []
   },
   "outputs": [
    {
     "name": "stdout",
     "output_type": "stream",
     "text": [
      "Shape of training dataset: (13636, 15)\n",
      "Shape of test dataset: (4546, 14)\n"
     ]
    }
   ],
   "source": [
    "print(\"Shape of training dataset:\",trainCSV.shape)\n",
    "print(\"Shape of test dataset:\",testCSV.shape)"
   ]
  },
  {
   "cell_type": "markdown",
   "id": "00f86a4e",
   "metadata": {
    "id": "ngJ8ThpsmG8Z",
    "papermill": {
     "duration": 0.01762,
     "end_time": "2024-04-10T13:05:07.318162",
     "exception": false,
     "start_time": "2024-04-10T13:05:07.300542",
     "status": "completed"
    },
    "tags": []
   },
   "source": [
    "## Columns in Datasets\n"
   ]
  },
  {
   "cell_type": "code",
   "execution_count": 7,
   "id": "d8bac9a7",
   "metadata": {
    "execution": {
     "iopub.execute_input": "2024-04-10T13:05:07.355822Z",
     "iopub.status.busy": "2024-04-10T13:05:07.355372Z",
     "iopub.status.idle": "2024-04-10T13:05:07.361450Z",
     "shell.execute_reply": "2024-04-10T13:05:07.360065Z"
    },
    "id": "dolg_fkImIe2",
    "papermill": {
     "duration": 0.027404,
     "end_time": "2024-04-10T13:05:07.363400",
     "exception": false,
     "start_time": "2024-04-10T13:05:07.335996",
     "status": "completed"
    },
    "tags": []
   },
   "outputs": [
    {
     "name": "stdout",
     "output_type": "stream",
     "text": [
      "Columns in training dataset:\n",
      " ['ID', 'RecipeNumber', 'RecipeCode', 'RecipeName', 'CommentID', 'UserID', 'UserName', 'UserReputation', 'CreationTimestamp', 'ReplyCount', 'ThumbsUpCount', 'ThumbsDownCount', 'Rating', 'BestScore', 'Recipe_Review'] \n",
      "\n",
      "Columns in testing dataset:\n",
      " ['ID', 'RecipeNumber', 'RecipeCode', 'RecipeName', 'CommentID', 'UserID', 'UserName', 'UserReputation', 'CreationTimestamp', 'ReplyCount', 'ThumbsUpCount', 'ThumbsDownCount', 'BestScore', 'Recipe_Review']\n"
     ]
    }
   ],
   "source": [
    "print(\"Columns in training dataset:\\n\",list(trainCSV.columns),'\\n')\n",
    "print(\"Columns in testing dataset:\\n\",list(testCSV.columns))"
   ]
  },
  {
   "cell_type": "markdown",
   "id": "27daa1b6",
   "metadata": {
    "id": "8moApnvYmLJZ",
    "papermill": {
     "duration": 0.017985,
     "end_time": "2024-04-10T13:05:07.467416",
     "exception": false,
     "start_time": "2024-04-10T13:05:07.449431",
     "status": "completed"
    },
    "tags": []
   },
   "source": [
    "## Datatypes of Colums and Missing Values\n"
   ]
  },
  {
   "cell_type": "code",
   "execution_count": 8,
   "id": "550d7415",
   "metadata": {
    "execution": {
     "iopub.execute_input": "2024-04-10T13:05:07.506702Z",
     "iopub.status.busy": "2024-04-10T13:05:07.505986Z",
     "iopub.status.idle": "2024-04-10T13:05:07.537849Z",
     "shell.execute_reply": "2024-04-10T13:05:07.536680Z"
    },
    "id": "K0l6pl_ImN89",
    "papermill": {
     "duration": 0.054343,
     "end_time": "2024-04-10T13:05:07.540488",
     "exception": false,
     "start_time": "2024-04-10T13:05:07.486145",
     "status": "completed"
    },
    "tags": []
   },
   "outputs": [
    {
     "name": "stdout",
     "output_type": "stream",
     "text": [
      "<class 'pandas.core.frame.DataFrame'>\n",
      "RangeIndex: 13636 entries, 0 to 13635\n",
      "Data columns (total 15 columns):\n",
      " #   Column             Non-Null Count  Dtype \n",
      "---  ------             --------------  ----- \n",
      " 0   ID                 13636 non-null  int64 \n",
      " 1   RecipeNumber       13636 non-null  int64 \n",
      " 2   RecipeCode         13636 non-null  int64 \n",
      " 3   RecipeName         13636 non-null  object\n",
      " 4   CommentID          13636 non-null  object\n",
      " 5   UserID             13636 non-null  object\n",
      " 6   UserName           13636 non-null  object\n",
      " 7   UserReputation     13636 non-null  int64 \n",
      " 8   CreationTimestamp  13636 non-null  int64 \n",
      " 9   ReplyCount         13636 non-null  int64 \n",
      " 10  ThumbsUpCount      13636 non-null  int64 \n",
      " 11  ThumbsDownCount    13636 non-null  int64 \n",
      " 12  Rating             13636 non-null  int64 \n",
      " 13  BestScore          13636 non-null  int64 \n",
      " 14  Recipe_Review      13634 non-null  object\n",
      "dtypes: int64(10), object(5)\n",
      "memory usage: 1.6+ MB\n"
     ]
    }
   ],
   "source": [
    "trainCSV.info()"
   ]
  },
  {
   "cell_type": "code",
   "execution_count": 9,
   "id": "3434e80e",
   "metadata": {
    "execution": {
     "iopub.execute_input": "2024-04-10T13:05:07.579904Z",
     "iopub.status.busy": "2024-04-10T13:05:07.579487Z",
     "iopub.status.idle": "2024-04-10T13:05:07.592708Z",
     "shell.execute_reply": "2024-04-10T13:05:07.591620Z"
    },
    "id": "es80baw3mf_z",
    "papermill": {
     "duration": 0.036076,
     "end_time": "2024-04-10T13:05:07.595403",
     "exception": false,
     "start_time": "2024-04-10T13:05:07.559327",
     "status": "completed"
    },
    "tags": []
   },
   "outputs": [
    {
     "name": "stdout",
     "output_type": "stream",
     "text": [
      "<class 'pandas.core.frame.DataFrame'>\n",
      "RangeIndex: 4546 entries, 0 to 4545\n",
      "Data columns (total 14 columns):\n",
      " #   Column             Non-Null Count  Dtype \n",
      "---  ------             --------------  ----- \n",
      " 0   ID                 4546 non-null   int64 \n",
      " 1   RecipeNumber       4546 non-null   int64 \n",
      " 2   RecipeCode         4546 non-null   int64 \n",
      " 3   RecipeName         4546 non-null   object\n",
      " 4   CommentID          4546 non-null   object\n",
      " 5   UserID             4546 non-null   object\n",
      " 6   UserName           4546 non-null   object\n",
      " 7   UserReputation     4546 non-null   int64 \n",
      " 8   CreationTimestamp  4546 non-null   int64 \n",
      " 9   ReplyCount         4546 non-null   int64 \n",
      " 10  ThumbsUpCount      4546 non-null   int64 \n",
      " 11  ThumbsDownCount    4546 non-null   int64 \n",
      " 12  BestScore          4546 non-null   int64 \n",
      " 13  Recipe_Review      4546 non-null   object\n",
      "dtypes: int64(9), object(5)\n",
      "memory usage: 497.3+ KB\n"
     ]
    }
   ],
   "source": [
    "testCSV.info()"
   ]
  },
  {
   "cell_type": "markdown",
   "id": "525857e1",
   "metadata": {
    "id": "b8RVRxahmSeG",
    "papermill": {
     "duration": 0.018855,
     "end_time": "2024-04-10T13:05:07.634406",
     "exception": false,
     "start_time": "2024-04-10T13:05:07.615551",
     "status": "completed"
    },
    "tags": []
   },
   "source": [
    "### Replacing Missing Values in TrainCSV\n"
   ]
  },
  {
   "cell_type": "markdown",
   "id": "61cdc137",
   "metadata": {
    "id": "7l6vf35VmPyk",
    "papermill": {
     "duration": 0.018793,
     "end_time": "2024-04-10T13:05:07.672253",
     "exception": false,
     "start_time": "2024-04-10T13:05:07.653460",
     "status": "completed"
    },
    "tags": []
   },
   "source": [
    "There are 2 missing values in the \"Recipe_Review\" column in trainCSV dataset. These missing \"Recipe_Reviews\" have been imputed with the string \"None\".\n"
   ]
  },
  {
   "cell_type": "code",
   "execution_count": 10,
   "id": "dbe716c7",
   "metadata": {
    "execution": {
     "iopub.execute_input": "2024-04-10T13:05:07.712458Z",
     "iopub.status.busy": "2024-04-10T13:05:07.712012Z",
     "iopub.status.idle": "2024-04-10T13:05:07.721848Z",
     "shell.execute_reply": "2024-04-10T13:05:07.720586Z"
    },
    "id": "aR5H-tVZmRqu",
    "papermill": {
     "duration": 0.03233,
     "end_time": "2024-04-10T13:05:07.724002",
     "exception": false,
     "start_time": "2024-04-10T13:05:07.691672",
     "status": "completed"
    },
    "tags": []
   },
   "outputs": [
    {
     "data": {
      "text/plain": [
       "2"
      ]
     },
     "execution_count": 10,
     "metadata": {},
     "output_type": "execute_result"
    }
   ],
   "source": [
    "trainCSV['Recipe_Review'].isna().sum()"
   ]
  },
  {
   "cell_type": "code",
   "execution_count": 11,
   "id": "413e1a1d",
   "metadata": {
    "execution": {
     "iopub.execute_input": "2024-04-10T13:05:07.763737Z",
     "iopub.status.busy": "2024-04-10T13:05:07.763326Z",
     "iopub.status.idle": "2024-04-10T13:05:07.773212Z",
     "shell.execute_reply": "2024-04-10T13:05:07.772113Z"
    },
    "id": "UK5ql64CmYdz",
    "papermill": {
     "duration": 0.032396,
     "end_time": "2024-04-10T13:05:07.775128",
     "exception": false,
     "start_time": "2024-04-10T13:05:07.742732",
     "status": "completed"
    },
    "tags": []
   },
   "outputs": [],
   "source": [
    "trainCSV['Recipe_Review'] = trainCSV['Recipe_Review'].fillna('None')"
   ]
  },
  {
   "cell_type": "markdown",
   "id": "82aeb2ad",
   "metadata": {
    "id": "tAMX4bbYmoHi",
    "papermill": {
     "duration": 0.017882,
     "end_time": "2024-04-10T13:05:07.811390",
     "exception": false,
     "start_time": "2024-04-10T13:05:07.793508",
     "status": "completed"
    },
    "tags": []
   },
   "source": [
    "## Descriptive Statistics of Numerical Columns\n"
   ]
  },
  {
   "cell_type": "markdown",
   "id": "03ffbd75",
   "metadata": {
    "id": "L7MdX26NmwGA",
    "papermill": {
     "duration": 0.018126,
     "end_time": "2024-04-10T13:05:07.847643",
     "exception": false,
     "start_time": "2024-04-10T13:05:07.829517",
     "status": "completed"
    },
    "tags": []
   },
   "source": [
    "The following columns have been dropped as their descriptive statistics have no logical use.\n",
    "\n",
    "```\n",
    "['ID','RecipeCode','CreationTimestamp']\n",
    "```\n"
   ]
  },
  {
   "cell_type": "code",
   "execution_count": 12,
   "id": "b84f514f",
   "metadata": {
    "execution": {
     "iopub.execute_input": "2024-04-10T13:05:07.886265Z",
     "iopub.status.busy": "2024-04-10T13:05:07.885798Z",
     "iopub.status.idle": "2024-04-10T13:05:07.920951Z",
     "shell.execute_reply": "2024-04-10T13:05:07.919947Z"
    },
    "id": "tWV9DcrQmqbb",
    "papermill": {
     "duration": 0.057253,
     "end_time": "2024-04-10T13:05:07.923089",
     "exception": false,
     "start_time": "2024-04-10T13:05:07.865836",
     "status": "completed"
    },
    "tags": []
   },
   "outputs": [
    {
     "data": {
      "text/html": [
       "<div>\n",
       "<style scoped>\n",
       "    .dataframe tbody tr th:only-of-type {\n",
       "        vertical-align: middle;\n",
       "    }\n",
       "\n",
       "    .dataframe tbody tr th {\n",
       "        vertical-align: top;\n",
       "    }\n",
       "\n",
       "    .dataframe thead th {\n",
       "        text-align: right;\n",
       "    }\n",
       "</style>\n",
       "<table border=\"1\" class=\"dataframe\">\n",
       "  <thead>\n",
       "    <tr style=\"text-align: right;\">\n",
       "      <th></th>\n",
       "      <th>count</th>\n",
       "      <th>mean</th>\n",
       "      <th>std</th>\n",
       "      <th>min</th>\n",
       "      <th>25%</th>\n",
       "      <th>50%</th>\n",
       "      <th>75%</th>\n",
       "      <th>max</th>\n",
       "    </tr>\n",
       "  </thead>\n",
       "  <tbody>\n",
       "    <tr>\n",
       "      <th>RecipeNumber</th>\n",
       "      <td>13636.00</td>\n",
       "      <td>38.62</td>\n",
       "      <td>29.67</td>\n",
       "      <td>1.00</td>\n",
       "      <td>12.00</td>\n",
       "      <td>33.00</td>\n",
       "      <td>63.00</td>\n",
       "      <td>100.00</td>\n",
       "    </tr>\n",
       "    <tr>\n",
       "      <th>UserReputation</th>\n",
       "      <td>13636.00</td>\n",
       "      <td>2.16</td>\n",
       "      <td>10.09</td>\n",
       "      <td>0.00</td>\n",
       "      <td>1.00</td>\n",
       "      <td>1.00</td>\n",
       "      <td>1.00</td>\n",
       "      <td>510.00</td>\n",
       "    </tr>\n",
       "    <tr>\n",
       "      <th>ReplyCount</th>\n",
       "      <td>13636.00</td>\n",
       "      <td>0.01</td>\n",
       "      <td>0.14</td>\n",
       "      <td>0.00</td>\n",
       "      <td>0.00</td>\n",
       "      <td>0.00</td>\n",
       "      <td>0.00</td>\n",
       "      <td>3.00</td>\n",
       "    </tr>\n",
       "    <tr>\n",
       "      <th>ThumbsUpCount</th>\n",
       "      <td>13636.00</td>\n",
       "      <td>1.10</td>\n",
       "      <td>4.17</td>\n",
       "      <td>0.00</td>\n",
       "      <td>0.00</td>\n",
       "      <td>0.00</td>\n",
       "      <td>0.00</td>\n",
       "      <td>80.00</td>\n",
       "    </tr>\n",
       "    <tr>\n",
       "      <th>ThumbsDownCount</th>\n",
       "      <td>13636.00</td>\n",
       "      <td>0.54</td>\n",
       "      <td>3.27</td>\n",
       "      <td>0.00</td>\n",
       "      <td>0.00</td>\n",
       "      <td>0.00</td>\n",
       "      <td>0.00</td>\n",
       "      <td>126.00</td>\n",
       "    </tr>\n",
       "    <tr>\n",
       "      <th>Rating</th>\n",
       "      <td>13636.00</td>\n",
       "      <td>4.29</td>\n",
       "      <td>1.54</td>\n",
       "      <td>0.00</td>\n",
       "      <td>5.00</td>\n",
       "      <td>5.00</td>\n",
       "      <td>5.00</td>\n",
       "      <td>5.00</td>\n",
       "    </tr>\n",
       "    <tr>\n",
       "      <th>BestScore</th>\n",
       "      <td>13636.00</td>\n",
       "      <td>153.13</td>\n",
       "      <td>140.99</td>\n",
       "      <td>0.00</td>\n",
       "      <td>100.00</td>\n",
       "      <td>100.00</td>\n",
       "      <td>100.00</td>\n",
       "      <td>946.00</td>\n",
       "    </tr>\n",
       "  </tbody>\n",
       "</table>\n",
       "</div>"
      ],
      "text/plain": [
       "                   count   mean    std  min    25%    50%    75%    max\n",
       "RecipeNumber    13636.00  38.62  29.67 1.00  12.00  33.00  63.00 100.00\n",
       "UserReputation  13636.00   2.16  10.09 0.00   1.00   1.00   1.00 510.00\n",
       "ReplyCount      13636.00   0.01   0.14 0.00   0.00   0.00   0.00   3.00\n",
       "ThumbsUpCount   13636.00   1.10   4.17 0.00   0.00   0.00   0.00  80.00\n",
       "ThumbsDownCount 13636.00   0.54   3.27 0.00   0.00   0.00   0.00 126.00\n",
       "Rating          13636.00   4.29   1.54 0.00   5.00   5.00   5.00   5.00\n",
       "BestScore       13636.00 153.13 140.99 0.00 100.00 100.00 100.00 946.00"
      ]
     },
     "execution_count": 12,
     "metadata": {},
     "output_type": "execute_result"
    }
   ],
   "source": [
    "trainCSV.drop(columns=['ID','RecipeCode','CreationTimestamp']).describe().T"
   ]
  },
  {
   "cell_type": "code",
   "execution_count": 13,
   "id": "1dbc9884",
   "metadata": {
    "execution": {
     "iopub.execute_input": "2024-04-10T13:05:07.962624Z",
     "iopub.status.busy": "2024-04-10T13:05:07.962166Z",
     "iopub.status.idle": "2024-04-10T13:05:07.988929Z",
     "shell.execute_reply": "2024-04-10T13:05:07.987887Z"
    },
    "id": "HCqiRjhjmvG6",
    "papermill": {
     "duration": 0.048793,
     "end_time": "2024-04-10T13:05:07.991021",
     "exception": false,
     "start_time": "2024-04-10T13:05:07.942228",
     "status": "completed"
    },
    "tags": []
   },
   "outputs": [
    {
     "data": {
      "text/html": [
       "<div>\n",
       "<style scoped>\n",
       "    .dataframe tbody tr th:only-of-type {\n",
       "        vertical-align: middle;\n",
       "    }\n",
       "\n",
       "    .dataframe tbody tr th {\n",
       "        vertical-align: top;\n",
       "    }\n",
       "\n",
       "    .dataframe thead th {\n",
       "        text-align: right;\n",
       "    }\n",
       "</style>\n",
       "<table border=\"1\" class=\"dataframe\">\n",
       "  <thead>\n",
       "    <tr style=\"text-align: right;\">\n",
       "      <th></th>\n",
       "      <th>count</th>\n",
       "      <th>mean</th>\n",
       "      <th>std</th>\n",
       "      <th>min</th>\n",
       "      <th>25%</th>\n",
       "      <th>50%</th>\n",
       "      <th>75%</th>\n",
       "      <th>max</th>\n",
       "    </tr>\n",
       "  </thead>\n",
       "  <tbody>\n",
       "    <tr>\n",
       "      <th>RecipeNumber</th>\n",
       "      <td>4546.00</td>\n",
       "      <td>38.88</td>\n",
       "      <td>30.13</td>\n",
       "      <td>1.00</td>\n",
       "      <td>11.00</td>\n",
       "      <td>32.00</td>\n",
       "      <td>64.00</td>\n",
       "      <td>100.00</td>\n",
       "    </tr>\n",
       "    <tr>\n",
       "      <th>UserReputation</th>\n",
       "      <td>4546.00</td>\n",
       "      <td>2.16</td>\n",
       "      <td>9.80</td>\n",
       "      <td>0.00</td>\n",
       "      <td>1.00</td>\n",
       "      <td>1.00</td>\n",
       "      <td>1.00</td>\n",
       "      <td>520.00</td>\n",
       "    </tr>\n",
       "    <tr>\n",
       "      <th>ReplyCount</th>\n",
       "      <td>4546.00</td>\n",
       "      <td>0.01</td>\n",
       "      <td>0.14</td>\n",
       "      <td>0.00</td>\n",
       "      <td>0.00</td>\n",
       "      <td>0.00</td>\n",
       "      <td>0.00</td>\n",
       "      <td>3.00</td>\n",
       "    </tr>\n",
       "    <tr>\n",
       "      <th>ThumbsUpCount</th>\n",
       "      <td>4546.00</td>\n",
       "      <td>1.06</td>\n",
       "      <td>4.30</td>\n",
       "      <td>0.00</td>\n",
       "      <td>0.00</td>\n",
       "      <td>0.00</td>\n",
       "      <td>0.00</td>\n",
       "      <td>106.00</td>\n",
       "    </tr>\n",
       "    <tr>\n",
       "      <th>ThumbsDownCount</th>\n",
       "      <td>4546.00</td>\n",
       "      <td>0.57</td>\n",
       "      <td>4.02</td>\n",
       "      <td>0.00</td>\n",
       "      <td>0.00</td>\n",
       "      <td>0.00</td>\n",
       "      <td>0.00</td>\n",
       "      <td>122.00</td>\n",
       "    </tr>\n",
       "    <tr>\n",
       "      <th>BestScore</th>\n",
       "      <td>4546.00</td>\n",
       "      <td>153.26</td>\n",
       "      <td>141.36</td>\n",
       "      <td>12.00</td>\n",
       "      <td>100.00</td>\n",
       "      <td>100.00</td>\n",
       "      <td>100.00</td>\n",
       "      <td>931.00</td>\n",
       "    </tr>\n",
       "  </tbody>\n",
       "</table>\n",
       "</div>"
      ],
      "text/plain": [
       "                  count   mean    std   min    25%    50%    75%    max\n",
       "RecipeNumber    4546.00  38.88  30.13  1.00  11.00  32.00  64.00 100.00\n",
       "UserReputation  4546.00   2.16   9.80  0.00   1.00   1.00   1.00 520.00\n",
       "ReplyCount      4546.00   0.01   0.14  0.00   0.00   0.00   0.00   3.00\n",
       "ThumbsUpCount   4546.00   1.06   4.30  0.00   0.00   0.00   0.00 106.00\n",
       "ThumbsDownCount 4546.00   0.57   4.02  0.00   0.00   0.00   0.00 122.00\n",
       "BestScore       4546.00 153.26 141.36 12.00 100.00 100.00 100.00 931.00"
      ]
     },
     "execution_count": 13,
     "metadata": {},
     "output_type": "execute_result"
    }
   ],
   "source": [
    "testCSV.drop(columns=['ID','RecipeCode','CreationTimestamp']).describe().T"
   ]
  },
  {
   "cell_type": "markdown",
   "id": "7291976b",
   "metadata": {
    "id": "kT-ohw-enI8C",
    "papermill": {
     "duration": 0.019302,
     "end_time": "2024-04-10T13:05:08.029768",
     "exception": false,
     "start_time": "2024-04-10T13:05:08.010466",
     "status": "completed"
    },
    "tags": []
   },
   "source": [
    "## Check if Dataset is Balanced or Not\n"
   ]
  },
  {
   "cell_type": "markdown",
   "id": "b0c8f95f",
   "metadata": {
    "papermill": {
     "duration": 0.018648,
     "end_time": "2024-04-10T13:05:08.067516",
     "exception": false,
     "start_time": "2024-04-10T13:05:08.048868",
     "status": "completed"
    },
    "tags": []
   },
   "source": [
    "### Balance in Target Variable"
   ]
  },
  {
   "cell_type": "code",
   "execution_count": 14,
   "id": "c7a4be7c",
   "metadata": {
    "execution": {
     "iopub.execute_input": "2024-04-10T13:05:08.108906Z",
     "iopub.status.busy": "2024-04-10T13:05:08.108124Z",
     "iopub.status.idle": "2024-04-10T13:05:08.349291Z",
     "shell.execute_reply": "2024-04-10T13:05:08.348497Z"
    },
    "id": "Ps-w0UuJnMnl",
    "papermill": {
     "duration": 0.264725,
     "end_time": "2024-04-10T13:05:08.351349",
     "exception": false,
     "start_time": "2024-04-10T13:05:08.086624",
     "status": "completed"
    },
    "tags": []
   },
   "outputs": [
    {
     "data": {
      "image/png": "[encoded data removed]",
      "text/plain": [
       "<Figure size 640x480 with 1 Axes>"
      ]
     },
     "metadata": {},
     "output_type": "display_data"
    }
   ],
   "source": [
    "trainCSVLabelCounts = trainCSV.Rating.value_counts()\n",
    "\n",
    "fig,ax = plt.subplots()\n",
    "ax.bar(\n",
    "    list(trainCSV.Rating.unique()), # x-axis -> unique ratings\n",
    "    [trainCSVLabelCounts.loc[i] for i in list(trainCSV.Rating.unique())] # y-axis -> count of corresponding unique rating \n",
    ")\n",
    "\n",
    "# Show value labels\n",
    "ax.bar_label(ax.containers[0], label_type='edge')\n",
    "\n",
    "ax.set_title(\"Ratings Count - TrainCSV\")\n",
    "ax.set_xlabel(\"Rating\")\n",
    "ax.set_ylabel(\"Count\")\n",
    "\n",
    "plt.show()"
   ]
  },
  {
   "cell_type": "markdown",
   "id": "d37c7754",
   "metadata": {
    "papermill": {
     "duration": 0.0194,
     "end_time": "2024-04-10T13:05:08.390476",
     "exception": false,
     "start_time": "2024-04-10T13:05:08.371076",
     "status": "completed"
    },
    "tags": []
   },
   "source": [
    "- The dataset is highly imbalanced: among the 6 classes, the majority of the samples belong to the class 5 i.e. rating is 5. \n",
    "\n",
    "- Out of 13,636 samples in the training dataset, 10,371 i.e. almost 76% of the samples belong to the class 5. \n",
    "\n",
    "- The number of samples in the class 5 surpasses the number of samples in all the other classes combined, making the dataset extremely imbalanced.\n",
    "\n",
    "- Moreover, if we ignore the class 5 for a moment and consider only the other classes, we can observe that within those classes/ratings (0,1,2,3,4) also, the dataset is imbalanced.\n",
    "\n",
    "- There number of samples for ratings 0 and 4 are more or less in the same range, but the number of samples in classes 1,2, and 3 are very less as compared to classes 0 and 4."
   ]
  },
  {
   "cell_type": "markdown",
   "id": "422fd292",
   "metadata": {
    "papermill": {
     "duration": 0.01894,
     "end_time": "2024-04-10T13:05:08.429235",
     "exception": false,
     "start_time": "2024-04-10T13:05:08.410295",
     "status": "completed"
    },
    "tags": []
   },
   "source": [
    "### Balance in Numerical Features"
   ]
  },
  {
   "cell_type": "code",
   "execution_count": 15,
   "id": "aa37c214",
   "metadata": {
    "execution": {
     "iopub.execute_input": "2024-04-10T13:05:08.471034Z",
     "iopub.status.busy": "2024-04-10T13:05:08.469945Z",
     "iopub.status.idle": "2024-04-10T13:05:09.951739Z",
     "shell.execute_reply": "2024-04-10T13:05:09.950601Z"
    },
    "papermill": {
     "duration": 1.505946,
     "end_time": "2024-04-10T13:05:09.954683",
     "exception": false,
     "start_time": "2024-04-10T13:05:08.448737",
     "status": "completed"
    },
    "tags": []
   },
   "outputs": [
    {
     "data": {
      "image/png": "[encoded data removed]",
      "text/plain": [
       "<Figure size 1400x1200 with 6 Axes>"
      ]
     },
     "metadata": {},
     "output_type": "display_data"
    }
   ],
   "source": [
    "# Function to create histograms\n",
    "def create_hist(data: pd.Series, title=None):\n",
    "  # Create a histplot with custom bin values\n",
    "  ax = sns.histplot(x=data)\n",
    "\n",
    "  # ax.bar_label(ax.containers[0])  # Shows y values above each bar of histplot\n",
    "  if title!=None: ax.set_title(title)\n",
    "  return ax\n",
    "\n",
    "# Plot of Distributions\n",
    "plt.figure(figsize=(14, 12))\n",
    "\n",
    "# Distirbution of column ReplyCount shown using bar chart not histogram because this column has very few unique values which are discrete too \n",
    "replyCountDF = pd.DataFrame(trainCSV['ReplyCount'].value_counts()) # Find ReplyCount's value counts and convert to dataframe\n",
    "replyCountDF.reset_index(inplace=True, drop=False) # reset index\n",
    "replyCountDF.rename(columns={'index':'ReplyCount'})\n",
    "plt.subplot(3,3,1)\n",
    "rcBar = sns.barplot(replyCountDF, x='ReplyCount', y='count') #trainCSV.ReplyCount.value_counts()\n",
    "rcBar.bar_label(rcBar.containers[0])  # Shows y values above each bar of histplot\n",
    "rcBar.set_title(\"ReplyCount Distribution\")\n",
    "rcBar.set_xlabel(\"ReplyCount\")\n",
    "rcBar.set_ylabel(\"Count\")\n",
    "\n",
    "# List of columns of which histogram is to be made along with their position on the plot\n",
    "histCols = [(2,\"BestScore\"), (3,\"ThumbsUpCount\"), (4,\"ThumbsDownCount\"), (5,\"UserReputation\"), (6,\"RecipeNumber\")]\n",
    "\n",
    "# Loop to create histograms\n",
    "for tup in histCols:\n",
    "    plt.subplot(3, 3, tup[0])\n",
    "    title = str(tup[1]) + \" Distribution\"\n",
    "    create_hist(trainCSV[tup[1]], title)#, str(trainCSV[tup[1]]+\" Distribution\"))\n",
    "    # sns.histplot(trainCSV[tup[1]])\n",
    "    # plt.title(tup[1])\n",
    "\n",
    "plt.tight_layout()  # Adjust spacing to prevent overlapping\n",
    "plt.show()"
   ]
  },
  {
   "cell_type": "markdown",
   "id": "a214bab7",
   "metadata": {
    "papermill": {
     "duration": 0.021091,
     "end_time": "2024-04-10T13:05:09.997618",
     "exception": false,
     "start_time": "2024-04-10T13:05:09.976527",
     "status": "completed"
    },
    "tags": []
   },
   "source": [
    "- None of the numerical features is adequately balanced. \n",
    "\n",
    "- All these features have very high imbalance, some haveing higher imbalance than even the target variable.\n",
    "\n",
    "- `RecipeNumber` is the most balanced out of all the numerical features but this too is quite imbalanced."
   ]
  },
  {
   "cell_type": "markdown",
   "id": "a5573b79",
   "metadata": {
    "papermill": {
     "duration": 0.020378,
     "end_time": "2024-04-10T13:05:10.038944",
     "exception": false,
     "start_time": "2024-04-10T13:05:10.018566",
     "status": "completed"
    },
    "tags": []
   },
   "source": [
    "### Three-fold Imbalance in the Dataset"
   ]
  },
  {
   "cell_type": "markdown",
   "id": "fa818744",
   "metadata": {
    "papermill": {
     "duration": 0.025556,
     "end_time": "2024-04-10T13:05:10.085056",
     "exception": false,
     "start_time": "2024-04-10T13:05:10.059500",
     "status": "completed"
    },
    "tags": []
   },
   "source": [
    "- Thus, there is three-fold imbalance in the dataset:\n",
    "\n",
    "    1. the samples in class 5 outnumber all the other classes combined by a huge margin,\n",
    "    \n",
    "    2. there is imbalance even in the remaining classes, with the samples of classes 0 and 4 outnumbering those of classes 1,2, and 3,\n",
    "    \n",
    "    3. the numerical features are highly imbalanced as well."
   ]
  },
  {
   "cell_type": "markdown",
   "id": "f7769e37",
   "metadata": {
    "id": "vsUZHLkXnPd0",
    "papermill": {
     "duration": 0.024924,
     "end_time": "2024-04-10T13:05:10.134693",
     "exception": false,
     "start_time": "2024-04-10T13:05:10.109769",
     "status": "completed"
    },
    "tags": []
   },
   "source": [
    "## Correlation Among Features\n"
   ]
  },
  {
   "cell_type": "code",
   "execution_count": 16,
   "id": "bf782d83",
   "metadata": {
    "execution": {
     "iopub.execute_input": "2024-04-10T13:05:10.178495Z",
     "iopub.status.busy": "2024-04-10T13:05:10.177702Z",
     "iopub.status.idle": "2024-04-10T13:05:10.761298Z",
     "shell.execute_reply": "2024-04-10T13:05:10.760066Z"
    },
    "id": "ZisftwkOnUNZ",
    "papermill": {
     "duration": 0.609368,
     "end_time": "2024-04-10T13:05:10.764816",
     "exception": false,
     "start_time": "2024-04-10T13:05:10.155448",
     "status": "completed"
    },
    "tags": []
   },
   "outputs": [
    {
     "data": {
      "text/plain": [
       "Text(0.5, 1.0, 'Correlation Matrix')"
      ]
     },
     "execution_count": 16,
     "metadata": {},
     "output_type": "execute_result"
    },
    {
     "data": {
      "image/png": "[encoded data removed]",
      "text/plain": [
       "<Figure size 640x480 with 2 Axes>"
      ]
     },
     "metadata": {},
     "output_type": "display_data"
    }
   ],
   "source": [
    "# List of non-numeric columns\n",
    "drop_cols = [\"ID\",\"RecipeCode\",\"RecipeName\",\"CommentID\",\"UserID\",\"UserName\",\"Recipe_Review\"]\n",
    "# Drop non-numeric columns before creating correlation heatmap\n",
    "corrDF = trainCSV.drop(columns=drop_cols)\n",
    "# Create correlation heatmap\n",
    "corrMatrix = sns.heatmap(corrDF.corr(), vmin=-1, vmax=1, annot=True)\n",
    "corrMatrix.set_title(\"Correlation Matrix\")"
   ]
  },
  {
   "cell_type": "markdown",
   "id": "5408a25b",
   "metadata": {
    "id": "GyBx6D-jnWsZ",
    "papermill": {
     "duration": 0.022436,
     "end_time": "2024-04-10T13:05:10.810471",
     "exception": false,
     "start_time": "2024-04-10T13:05:10.788035",
     "status": "completed"
    },
    "tags": []
   },
   "source": [
    "- `BestScore` is positively correlated with `CreationTimestamp` (0.68) and `ThumbsUpCount` (0.69). Thus using `BestScore` with any of these 2 features might reduce the accuracy.\n",
    "\n",
    "- In general, numeric features have negligible correlation with the label column `Rating`, as is evident in the below heatmap.\n"
   ]
  },
  {
   "cell_type": "code",
   "execution_count": 17,
   "id": "73bc4398",
   "metadata": {
    "execution": {
     "iopub.execute_input": "2024-04-10T13:05:10.856785Z",
     "iopub.status.busy": "2024-04-10T13:05:10.856317Z",
     "iopub.status.idle": "2024-04-10T13:05:11.235077Z",
     "shell.execute_reply": "2024-04-10T13:05:11.233975Z"
    },
    "id": "r6rsL2jCnYUv",
    "papermill": {
     "duration": 0.405234,
     "end_time": "2024-04-10T13:05:11.237919",
     "exception": false,
     "start_time": "2024-04-10T13:05:10.832685",
     "status": "completed"
    },
    "tags": []
   },
   "outputs": [
    {
     "data": {
      "text/plain": [
       "Text(0.5, 1.0, 'Correlation with Rating')"
      ]
     },
     "execution_count": 17,
     "metadata": {},
     "output_type": "execute_result"
    },
    {
     "data": {
      "image/png": "[encoded data removed]",
      "text/plain": [
       "<Figure size 800x1200 with 2 Axes>"
      ]
     },
     "metadata": {},
     "output_type": "display_data"
    }
   ],
   "source": [
    "plt.figure(figsize=(8, 12))\n",
    "corrWithRating = sns.heatmap(corrDF.corr()[['Rating']].sort_values(by='Rating', ascending=False), vmin=-1, vmax=1, annot=True, cmap='BrBG')\n",
    "corrWithRating.set_title('Correlation with Rating')"
   ]
  },
  {
   "cell_type": "markdown",
   "id": "3b2b9f4c",
   "metadata": {
    "papermill": {
     "duration": 0.023507,
     "end_time": "2024-04-10T13:05:11.285550",
     "exception": false,
     "start_time": "2024-04-10T13:05:11.262043",
     "status": "completed"
    },
    "tags": []
   },
   "source": [
    "# Feature Engineering"
   ]
  },
  {
   "cell_type": "code",
   "execution_count": 18,
   "id": "68530b8e",
   "metadata": {
    "execution": {
     "iopub.execute_input": "2024-04-10T13:05:11.334431Z",
     "iopub.status.busy": "2024-04-10T13:05:11.333448Z",
     "iopub.status.idle": "2024-04-10T13:05:11.342235Z",
     "shell.execute_reply": "2024-04-10T13:05:11.341402Z"
    },
    "papermill": {
     "duration": 0.035692,
     "end_time": "2024-04-10T13:05:11.344358",
     "exception": false,
     "start_time": "2024-04-10T13:05:11.308666",
     "status": "completed"
    },
    "tags": []
   },
   "outputs": [],
   "source": [
    "from copy import deepcopy\n",
    "# Copy of trainCSV on which feature engineering is demonstrated\n",
    "featuresDF = deepcopy(trainCSV)"
   ]
  },
  {
   "cell_type": "markdown",
   "id": "666c2ef7",
   "metadata": {
    "papermill": {
     "duration": 0.02336,
     "end_time": "2024-04-10T13:05:11.390896",
     "exception": false,
     "start_time": "2024-04-10T13:05:11.367536",
     "status": "completed"
    },
    "tags": []
   },
   "source": [
    "### Encoding `RecipeName` Using `OneHotEncoder`"
   ]
  },
  {
   "cell_type": "code",
   "execution_count": 19,
   "id": "afeb16e8",
   "metadata": {
    "execution": {
     "iopub.execute_input": "2024-04-10T13:05:11.439508Z",
     "iopub.status.busy": "2024-04-10T13:05:11.439068Z",
     "iopub.status.idle": "2024-04-10T13:05:11.493164Z",
     "shell.execute_reply": "2024-04-10T13:05:11.491970Z"
    },
    "papermill": {
     "duration": 0.081305,
     "end_time": "2024-04-10T13:05:11.495559",
     "exception": false,
     "start_time": "2024-04-10T13:05:11.414254",
     "status": "completed"
    },
    "tags": []
   },
   "outputs": [
    {
     "data": {
      "text/html": [
       "<div>\n",
       "<style scoped>\n",
       "    .dataframe tbody tr th:only-of-type {\n",
       "        vertical-align: middle;\n",
       "    }\n",
       "\n",
       "    .dataframe tbody tr th {\n",
       "        vertical-align: top;\n",
       "    }\n",
       "\n",
       "    .dataframe thead th {\n",
       "        text-align: right;\n",
       "    }\n",
       "</style>\n",
       "<table border=\"1\" class=\"dataframe\">\n",
       "  <thead>\n",
       "    <tr style=\"text-align: right;\">\n",
       "      <th></th>\n",
       "      <th>Amish Breakfast Casserole</th>\n",
       "      <th>Apple Pie</th>\n",
       "      <th>Asian Chicken Thighs</th>\n",
       "      <th>Bacon Macaroni Salad</th>\n",
       "      <th>Baked Mushroom Chicken</th>\n",
       "      <th>Baked Spaghetti</th>\n",
       "      <th>Baked Tilapia</th>\n",
       "      <th>Banana Bars with Cream Cheese Frosting</th>\n",
       "      <th>Basic Banana Muffins</th>\n",
       "      <th>Basic Homemade Bread</th>\n",
       "      <th>...</th>\n",
       "      <th>Taco Lasagna</th>\n",
       "      <th>Tennessee Peach Pudding</th>\n",
       "      <th>Teriyaki Chicken Thighs</th>\n",
       "      <th>Traditional Lasagna</th>\n",
       "      <th>Twice-Baked Potato Casserole</th>\n",
       "      <th>Vegetarian Linguine</th>\n",
       "      <th>White Bean Chicken Chili</th>\n",
       "      <th>Winning Apple Crisp</th>\n",
       "      <th>Zucchini Cupcake</th>\n",
       "      <th>Zucchini Pizza Casserole</th>\n",
       "    </tr>\n",
       "  </thead>\n",
       "  <tbody>\n",
       "    <tr>\n",
       "      <th>0</th>\n",
       "      <td>0.00</td>\n",
       "      <td>0.00</td>\n",
       "      <td>0.00</td>\n",
       "      <td>0.00</td>\n",
       "      <td>0.00</td>\n",
       "      <td>0.00</td>\n",
       "      <td>0.00</td>\n",
       "      <td>1.00</td>\n",
       "      <td>0.00</td>\n",
       "      <td>0.00</td>\n",
       "      <td>...</td>\n",
       "      <td>0.00</td>\n",
       "      <td>0.00</td>\n",
       "      <td>0.00</td>\n",
       "      <td>0.00</td>\n",
       "      <td>0.00</td>\n",
       "      <td>0.00</td>\n",
       "      <td>0.00</td>\n",
       "      <td>0.00</td>\n",
       "      <td>0.00</td>\n",
       "      <td>0.00</td>\n",
       "    </tr>\n",
       "    <tr>\n",
       "      <th>1</th>\n",
       "      <td>0.00</td>\n",
       "      <td>0.00</td>\n",
       "      <td>0.00</td>\n",
       "      <td>0.00</td>\n",
       "      <td>0.00</td>\n",
       "      <td>0.00</td>\n",
       "      <td>0.00</td>\n",
       "      <td>0.00</td>\n",
       "      <td>0.00</td>\n",
       "      <td>0.00</td>\n",
       "      <td>...</td>\n",
       "      <td>0.00</td>\n",
       "      <td>0.00</td>\n",
       "      <td>0.00</td>\n",
       "      <td>0.00</td>\n",
       "      <td>0.00</td>\n",
       "      <td>0.00</td>\n",
       "      <td>0.00</td>\n",
       "      <td>0.00</td>\n",
       "      <td>0.00</td>\n",
       "      <td>0.00</td>\n",
       "    </tr>\n",
       "    <tr>\n",
       "      <th>2</th>\n",
       "      <td>0.00</td>\n",
       "      <td>0.00</td>\n",
       "      <td>0.00</td>\n",
       "      <td>0.00</td>\n",
       "      <td>0.00</td>\n",
       "      <td>0.00</td>\n",
       "      <td>0.00</td>\n",
       "      <td>0.00</td>\n",
       "      <td>0.00</td>\n",
       "      <td>0.00</td>\n",
       "      <td>...</td>\n",
       "      <td>0.00</td>\n",
       "      <td>0.00</td>\n",
       "      <td>0.00</td>\n",
       "      <td>0.00</td>\n",
       "      <td>0.00</td>\n",
       "      <td>0.00</td>\n",
       "      <td>0.00</td>\n",
       "      <td>0.00</td>\n",
       "      <td>0.00</td>\n",
       "      <td>0.00</td>\n",
       "    </tr>\n",
       "    <tr>\n",
       "      <th>3</th>\n",
       "      <td>0.00</td>\n",
       "      <td>0.00</td>\n",
       "      <td>0.00</td>\n",
       "      <td>0.00</td>\n",
       "      <td>0.00</td>\n",
       "      <td>0.00</td>\n",
       "      <td>0.00</td>\n",
       "      <td>0.00</td>\n",
       "      <td>0.00</td>\n",
       "      <td>0.00</td>\n",
       "      <td>...</td>\n",
       "      <td>0.00</td>\n",
       "      <td>0.00</td>\n",
       "      <td>0.00</td>\n",
       "      <td>0.00</td>\n",
       "      <td>0.00</td>\n",
       "      <td>0.00</td>\n",
       "      <td>0.00</td>\n",
       "      <td>0.00</td>\n",
       "      <td>0.00</td>\n",
       "      <td>0.00</td>\n",
       "    </tr>\n",
       "    <tr>\n",
       "      <th>4</th>\n",
       "      <td>0.00</td>\n",
       "      <td>0.00</td>\n",
       "      <td>0.00</td>\n",
       "      <td>0.00</td>\n",
       "      <td>0.00</td>\n",
       "      <td>0.00</td>\n",
       "      <td>0.00</td>\n",
       "      <td>0.00</td>\n",
       "      <td>0.00</td>\n",
       "      <td>0.00</td>\n",
       "      <td>...</td>\n",
       "      <td>0.00</td>\n",
       "      <td>0.00</td>\n",
       "      <td>0.00</td>\n",
       "      <td>0.00</td>\n",
       "      <td>0.00</td>\n",
       "      <td>0.00</td>\n",
       "      <td>0.00</td>\n",
       "      <td>0.00</td>\n",
       "      <td>0.00</td>\n",
       "      <td>0.00</td>\n",
       "    </tr>\n",
       "    <tr>\n",
       "      <th>...</th>\n",
       "      <td>...</td>\n",
       "      <td>...</td>\n",
       "      <td>...</td>\n",
       "      <td>...</td>\n",
       "      <td>...</td>\n",
       "      <td>...</td>\n",
       "      <td>...</td>\n",
       "      <td>...</td>\n",
       "      <td>...</td>\n",
       "      <td>...</td>\n",
       "      <td>...</td>\n",
       "      <td>...</td>\n",
       "      <td>...</td>\n",
       "      <td>...</td>\n",
       "      <td>...</td>\n",
       "      <td>...</td>\n",
       "      <td>...</td>\n",
       "      <td>...</td>\n",
       "      <td>...</td>\n",
       "      <td>...</td>\n",
       "      <td>...</td>\n",
       "    </tr>\n",
       "    <tr>\n",
       "      <th>13631</th>\n",
       "      <td>0.00</td>\n",
       "      <td>0.00</td>\n",
       "      <td>0.00</td>\n",
       "      <td>0.00</td>\n",
       "      <td>0.00</td>\n",
       "      <td>0.00</td>\n",
       "      <td>0.00</td>\n",
       "      <td>0.00</td>\n",
       "      <td>0.00</td>\n",
       "      <td>0.00</td>\n",
       "      <td>...</td>\n",
       "      <td>0.00</td>\n",
       "      <td>0.00</td>\n",
       "      <td>0.00</td>\n",
       "      <td>0.00</td>\n",
       "      <td>0.00</td>\n",
       "      <td>0.00</td>\n",
       "      <td>0.00</td>\n",
       "      <td>0.00</td>\n",
       "      <td>0.00</td>\n",
       "      <td>0.00</td>\n",
       "    </tr>\n",
       "    <tr>\n",
       "      <th>13632</th>\n",
       "      <td>0.00</td>\n",
       "      <td>0.00</td>\n",
       "      <td>0.00</td>\n",
       "      <td>0.00</td>\n",
       "      <td>0.00</td>\n",
       "      <td>0.00</td>\n",
       "      <td>0.00</td>\n",
       "      <td>0.00</td>\n",
       "      <td>0.00</td>\n",
       "      <td>0.00</td>\n",
       "      <td>...</td>\n",
       "      <td>0.00</td>\n",
       "      <td>0.00</td>\n",
       "      <td>0.00</td>\n",
       "      <td>0.00</td>\n",
       "      <td>0.00</td>\n",
       "      <td>0.00</td>\n",
       "      <td>0.00</td>\n",
       "      <td>0.00</td>\n",
       "      <td>0.00</td>\n",
       "      <td>0.00</td>\n",
       "    </tr>\n",
       "    <tr>\n",
       "      <th>13633</th>\n",
       "      <td>0.00</td>\n",
       "      <td>0.00</td>\n",
       "      <td>0.00</td>\n",
       "      <td>0.00</td>\n",
       "      <td>0.00</td>\n",
       "      <td>0.00</td>\n",
       "      <td>0.00</td>\n",
       "      <td>0.00</td>\n",
       "      <td>0.00</td>\n",
       "      <td>0.00</td>\n",
       "      <td>...</td>\n",
       "      <td>1.00</td>\n",
       "      <td>0.00</td>\n",
       "      <td>0.00</td>\n",
       "      <td>0.00</td>\n",
       "      <td>0.00</td>\n",
       "      <td>0.00</td>\n",
       "      <td>0.00</td>\n",
       "      <td>0.00</td>\n",
       "      <td>0.00</td>\n",
       "      <td>0.00</td>\n",
       "    </tr>\n",
       "    <tr>\n",
       "      <th>13634</th>\n",
       "      <td>0.00</td>\n",
       "      <td>0.00</td>\n",
       "      <td>0.00</td>\n",
       "      <td>0.00</td>\n",
       "      <td>0.00</td>\n",
       "      <td>0.00</td>\n",
       "      <td>0.00</td>\n",
       "      <td>0.00</td>\n",
       "      <td>0.00</td>\n",
       "      <td>0.00</td>\n",
       "      <td>...</td>\n",
       "      <td>0.00</td>\n",
       "      <td>0.00</td>\n",
       "      <td>0.00</td>\n",
       "      <td>0.00</td>\n",
       "      <td>0.00</td>\n",
       "      <td>0.00</td>\n",
       "      <td>0.00</td>\n",
       "      <td>0.00</td>\n",
       "      <td>0.00</td>\n",
       "      <td>0.00</td>\n",
       "    </tr>\n",
       "    <tr>\n",
       "      <th>13635</th>\n",
       "      <td>0.00</td>\n",
       "      <td>0.00</td>\n",
       "      <td>0.00</td>\n",
       "      <td>0.00</td>\n",
       "      <td>0.00</td>\n",
       "      <td>0.00</td>\n",
       "      <td>0.00</td>\n",
       "      <td>0.00</td>\n",
       "      <td>0.00</td>\n",
       "      <td>0.00</td>\n",
       "      <td>...</td>\n",
       "      <td>0.00</td>\n",
       "      <td>0.00</td>\n",
       "      <td>0.00</td>\n",
       "      <td>0.00</td>\n",
       "      <td>0.00</td>\n",
       "      <td>0.00</td>\n",
       "      <td>0.00</td>\n",
       "      <td>0.00</td>\n",
       "      <td>0.00</td>\n",
       "      <td>0.00</td>\n",
       "    </tr>\n",
       "  </tbody>\n",
       "</table>\n",
       "<p>13636 rows × 100 columns</p>\n",
       "</div>"
      ],
      "text/plain": [
       "       Amish Breakfast Casserole  Apple Pie  Asian Chicken Thighs  \\\n",
       "0                           0.00       0.00                  0.00   \n",
       "1                           0.00       0.00                  0.00   \n",
       "2                           0.00       0.00                  0.00   \n",
       "3                           0.00       0.00                  0.00   \n",
       "4                           0.00       0.00                  0.00   \n",
       "...                          ...        ...                   ...   \n",
       "13631                       0.00       0.00                  0.00   \n",
       "13632                       0.00       0.00                  0.00   \n",
       "13633                       0.00       0.00                  0.00   \n",
       "13634                       0.00       0.00                  0.00   \n",
       "13635                       0.00       0.00                  0.00   \n",
       "\n",
       "       Bacon Macaroni Salad  Baked Mushroom Chicken  Baked Spaghetti  \\\n",
       "0                      0.00                    0.00             0.00   \n",
       "1                      0.00                    0.00             0.00   \n",
       "2                      0.00                    0.00             0.00   \n",
       "3                      0.00                    0.00             0.00   \n",
       "4                      0.00                    0.00             0.00   \n",
       "...                     ...                     ...              ...   \n",
       "13631                  0.00                    0.00             0.00   \n",
       "13632                  0.00                    0.00             0.00   \n",
       "13633                  0.00                    0.00             0.00   \n",
       "13634                  0.00                    0.00             0.00   \n",
       "13635                  0.00                    0.00             0.00   \n",
       "\n",
       "       Baked Tilapia  Banana Bars with Cream Cheese Frosting  \\\n",
       "0               0.00                                    1.00   \n",
       "1               0.00                                    0.00   \n",
       "2               0.00                                    0.00   \n",
       "3               0.00                                    0.00   \n",
       "4               0.00                                    0.00   \n",
       "...              ...                                     ...   \n",
       "13631           0.00                                    0.00   \n",
       "13632           0.00                                    0.00   \n",
       "13633           0.00                                    0.00   \n",
       "13634           0.00                                    0.00   \n",
       "13635           0.00                                    0.00   \n",
       "\n",
       "       Basic Banana Muffins  Basic Homemade Bread  ...  Taco Lasagna  \\\n",
       "0                      0.00                  0.00  ...          0.00   \n",
       "1                      0.00                  0.00  ...          0.00   \n",
       "2                      0.00                  0.00  ...          0.00   \n",
       "3                      0.00                  0.00  ...          0.00   \n",
       "4                      0.00                  0.00  ...          0.00   \n",
       "...                     ...                   ...  ...           ...   \n",
       "13631                  0.00                  0.00  ...          0.00   \n",
       "13632                  0.00                  0.00  ...          0.00   \n",
       "13633                  0.00                  0.00  ...          1.00   \n",
       "13634                  0.00                  0.00  ...          0.00   \n",
       "13635                  0.00                  0.00  ...          0.00   \n",
       "\n",
       "       Tennessee Peach Pudding  Teriyaki Chicken Thighs  Traditional Lasagna  \\\n",
       "0                         0.00                     0.00                 0.00   \n",
       "1                         0.00                     0.00                 0.00   \n",
       "2                         0.00                     0.00                 0.00   \n",
       "3                         0.00                     0.00                 0.00   \n",
       "4                         0.00                     0.00                 0.00   \n",
       "...                        ...                      ...                  ...   \n",
       "13631                     0.00                     0.00                 0.00   \n",
       "13632                     0.00                     0.00                 0.00   \n",
       "13633                     0.00                     0.00                 0.00   \n",
       "13634                     0.00                     0.00                 0.00   \n",
       "13635                     0.00                     0.00                 0.00   \n",
       "\n",
       "       Twice-Baked Potato Casserole  Vegetarian Linguine  \\\n",
       "0                              0.00                 0.00   \n",
       "1                              0.00                 0.00   \n",
       "2                              0.00                 0.00   \n",
       "3                              0.00                 0.00   \n",
       "4                              0.00                 0.00   \n",
       "...                             ...                  ...   \n",
       "13631                          0.00                 0.00   \n",
       "13632                          0.00                 0.00   \n",
       "13633                          0.00                 0.00   \n",
       "13634                          0.00                 0.00   \n",
       "13635                          0.00                 0.00   \n",
       "\n",
       "       White Bean Chicken Chili  Winning Apple Crisp  Zucchini Cupcake  \\\n",
       "0                          0.00                 0.00              0.00   \n",
       "1                          0.00                 0.00              0.00   \n",
       "2                          0.00                 0.00              0.00   \n",
       "3                          0.00                 0.00              0.00   \n",
       "4                          0.00                 0.00              0.00   \n",
       "...                         ...                  ...               ...   \n",
       "13631                      0.00                 0.00              0.00   \n",
       "13632                      0.00                 0.00              0.00   \n",
       "13633                      0.00                 0.00              0.00   \n",
       "13634                      0.00                 0.00              0.00   \n",
       "13635                      0.00                 0.00              0.00   \n",
       "\n",
       "       Zucchini Pizza Casserole  \n",
       "0                          0.00  \n",
       "1                          0.00  \n",
       "2                          0.00  \n",
       "3                          0.00  \n",
       "4                          0.00  \n",
       "...                         ...  \n",
       "13631                      0.00  \n",
       "13632                      0.00  \n",
       "13633                      0.00  \n",
       "13634                      0.00  \n",
       "13635                      0.00  \n",
       "\n",
       "[13636 rows x 100 columns]"
      ]
     },
     "execution_count": 19,
     "metadata": {},
     "output_type": "execute_result"
    }
   ],
   "source": [
    "from sklearn.preprocessing import OneHotEncoder\n",
    "ohe = OneHotEncoder(sparse_output=False)    # by default returns sparse matrix, set that to false to convert to dataframe\n",
    "# Encode recipe names\n",
    "ohe_ = ohe.fit_transform(featuresDF[['RecipeName']])  \n",
    "# Create a dataframe of new encoded features\n",
    "ohe_features = pd.DataFrame(ohe_, columns=ohe.get_feature_names_out())\n",
    "ohe_features.rename(columns=lambda x: x[11:],inplace=True)  # Rename columns. Remove the \"RecipeName_\" string added in the beginnning of each column by OneHotEncoder\n",
    "ohe_features"
   ]
  },
  {
   "cell_type": "markdown",
   "id": "cbb04599",
   "metadata": {
    "papermill": {
     "duration": 0.023465,
     "end_time": "2024-04-10T13:05:11.543149",
     "exception": false,
     "start_time": "2024-04-10T13:05:11.519684",
     "status": "completed"
    },
    "tags": []
   },
   "source": [
    "### New Features From Column `CreationTimestamp`"
   ]
  },
  {
   "cell_type": "markdown",
   "id": "aed04be3",
   "metadata": {
    "papermill": {
     "duration": 0.023213,
     "end_time": "2024-04-10T13:05:11.590772",
     "exception": false,
     "start_time": "2024-04-10T13:05:11.567559",
     "status": "completed"
    },
    "tags": []
   },
   "source": [
    "- Here, the`CreationTimestamp` column was used to extract the day of the week and the hour of the day. \n",
    "\n",
    "- The day of the week became a feature in itself named `DayOfWeek`.\n",
    "\n",
    "- The hour of the day was used to create another feature called `DayOrNight`.\n",
    "\n",
    "- If the hour was between 7 and 19 (19 excluded) then `DayOrNight`=1 representing day-time, else `DayOrNight`=0 representing night-time."
   ]
  },
  {
   "cell_type": "code",
   "execution_count": 20,
   "id": "a9adec8b",
   "metadata": {
    "execution": {
     "iopub.execute_input": "2024-04-10T13:05:11.641051Z",
     "iopub.status.busy": "2024-04-10T13:05:11.640594Z",
     "iopub.status.idle": "2024-04-10T13:05:13.619229Z",
     "shell.execute_reply": "2024-04-10T13:05:13.618146Z"
    },
    "papermill": {
     "duration": 2.007098,
     "end_time": "2024-04-10T13:05:13.621659",
     "exception": false,
     "start_time": "2024-04-10T13:05:11.614561",
     "status": "completed"
    },
    "tags": []
   },
   "outputs": [
    {
     "data": {
      "text/html": [
       "<div>\n",
       "<style scoped>\n",
       "    .dataframe tbody tr th:only-of-type {\n",
       "        vertical-align: middle;\n",
       "    }\n",
       "\n",
       "    .dataframe tbody tr th {\n",
       "        vertical-align: top;\n",
       "    }\n",
       "\n",
       "    .dataframe thead th {\n",
       "        text-align: right;\n",
       "    }\n",
       "</style>\n",
       "<table border=\"1\" class=\"dataframe\">\n",
       "  <thead>\n",
       "    <tr style=\"text-align: right;\">\n",
       "      <th></th>\n",
       "      <th>DayOrNight</th>\n",
       "      <th>DayOfWeek</th>\n",
       "    </tr>\n",
       "  </thead>\n",
       "  <tbody>\n",
       "    <tr>\n",
       "      <th>0</th>\n",
       "      <td>1</td>\n",
       "      <td>3</td>\n",
       "    </tr>\n",
       "    <tr>\n",
       "      <th>1</th>\n",
       "      <td>1</td>\n",
       "      <td>3</td>\n",
       "    </tr>\n",
       "    <tr>\n",
       "      <th>2</th>\n",
       "      <td>1</td>\n",
       "      <td>3</td>\n",
       "    </tr>\n",
       "    <tr>\n",
       "      <th>3</th>\n",
       "      <td>1</td>\n",
       "      <td>2</td>\n",
       "    </tr>\n",
       "    <tr>\n",
       "      <th>4</th>\n",
       "      <td>1</td>\n",
       "      <td>3</td>\n",
       "    </tr>\n",
       "    <tr>\n",
       "      <th>...</th>\n",
       "      <td>...</td>\n",
       "      <td>...</td>\n",
       "    </tr>\n",
       "    <tr>\n",
       "      <th>13631</th>\n",
       "      <td>1</td>\n",
       "      <td>3</td>\n",
       "    </tr>\n",
       "    <tr>\n",
       "      <th>13632</th>\n",
       "      <td>1</td>\n",
       "      <td>3</td>\n",
       "    </tr>\n",
       "    <tr>\n",
       "      <th>13633</th>\n",
       "      <td>1</td>\n",
       "      <td>3</td>\n",
       "    </tr>\n",
       "    <tr>\n",
       "      <th>13634</th>\n",
       "      <td>1</td>\n",
       "      <td>3</td>\n",
       "    </tr>\n",
       "    <tr>\n",
       "      <th>13635</th>\n",
       "      <td>1</td>\n",
       "      <td>3</td>\n",
       "    </tr>\n",
       "  </tbody>\n",
       "</table>\n",
       "<p>13636 rows × 2 columns</p>\n",
       "</div>"
      ],
      "text/plain": [
       "       DayOrNight  DayOfWeek\n",
       "0               1          3\n",
       "1               1          3\n",
       "2               1          3\n",
       "3               1          2\n",
       "4               1          3\n",
       "...           ...        ...\n",
       "13631           1          3\n",
       "13632           1          3\n",
       "13633           1          3\n",
       "13634           1          3\n",
       "13635           1          3\n",
       "\n",
       "[13636 rows x 2 columns]"
      ]
     },
     "execution_count": 20,
     "metadata": {},
     "output_type": "execute_result"
    }
   ],
   "source": [
    "import datetime as dt\n",
    "d = featuresDF[\"CreationTimestamp\"]\n",
    "dft = pd.DataFrame(d)\n",
    "\n",
    "# Function to extract dayOrNight and dayOfWeek from timestamp\n",
    "def processTimestamp(timestamp):\n",
    "    dt_object = dt.datetime.fromtimestamp(timestamp)\n",
    "    hrOfDay = dt_object.hour\n",
    "    dayOrNight = ''   # 1 represents Day, 0 represents Night\n",
    "    if 7<=hrOfDay<19:\n",
    "        dayOrNight = 1   # 1 for day\n",
    "    else: dayOrNight = 0  # 0 for night\n",
    "    dayOfWeek = dt_object.weekday()\n",
    "    return dayOrNight, dayOfWeek    \n",
    "\n",
    "featuresDF[['DayOrNight', 'DayOfWeek']] = featuresDF['CreationTimestamp'].apply(lambda row: pd.Series(processTimestamp(row)))\n",
    "featuresDF[['DayOrNight','DayOfWeek']]  # Display the 2 new columns"
   ]
  },
  {
   "cell_type": "markdown",
   "id": "8af217f9",
   "metadata": {
    "papermill": {
     "duration": 0.024122,
     "end_time": "2024-04-10T13:05:13.671073",
     "exception": false,
     "start_time": "2024-04-10T13:05:13.646951",
     "status": "completed"
    },
    "tags": []
   },
   "source": [
    "### New Features From Column `RecipeName`"
   ]
  },
  {
   "cell_type": "markdown",
   "id": "7fb4e0bd",
   "metadata": {
    "papermill": {
     "duration": 0.023804,
     "end_time": "2024-04-10T13:05:13.719502",
     "exception": false,
     "start_time": "2024-04-10T13:05:13.695698",
     "status": "completed"
    },
    "tags": []
   },
   "source": [
    "- Using `RecipeName` a new feature was created called `RecipeNameRating`.\n",
    "\n",
    "- The values in this feature are the weighted mean rating for that recipe.\n",
    "\n",
    "- Weighted mean rating, or 'wMeanRating' is a score created to find the weighted average rating that a given recipe has got.\n",
    "\n",
    "- The logic behind creating this feature was to tackle the imbalance in the ratings in the training data.\n",
    "\n",
    "- To calculate the wMearRating, the number of 0 ratings, 1 ratings, and so forth, are calculated for a particular recipe. Then, each ratings' count is assigned a weight (which in this case is a logarithm of the count of another specified rating) in an attempt to balance the ratings.\n",
    "\n",
    "- The wMeanRating is calculated for each recipe and in the training data, a column is created where this score is mentioned for that record's recipe.\n",
    "\n",
    "- `RecipeName` was used as the base for this exercise because intuitively, there are always some recipes which are more preferred by people thatn others. There is a natural relation between a recipe and its rating. This feature attempted to capture that relation using the given training dataset."
   ]
  },
  {
   "cell_type": "code",
   "execution_count": 21,
   "id": "fe631b20",
   "metadata": {
    "execution": {
     "iopub.execute_input": "2024-04-10T13:05:13.769822Z",
     "iopub.status.busy": "2024-04-10T13:05:13.769386Z",
     "iopub.status.idle": "2024-04-10T13:05:13.795137Z",
     "shell.execute_reply": "2024-04-10T13:05:13.794103Z"
    },
    "papermill": {
     "duration": 0.05387,
     "end_time": "2024-04-10T13:05:13.797642",
     "exception": false,
     "start_time": "2024-04-10T13:05:13.743772",
     "status": "completed"
    },
    "tags": []
   },
   "outputs": [
    {
     "data": {
      "text/html": [
       "<div>\n",
       "<style scoped>\n",
       "    .dataframe tbody tr th:only-of-type {\n",
       "        vertical-align: middle;\n",
       "    }\n",
       "\n",
       "    .dataframe tbody tr th {\n",
       "        vertical-align: top;\n",
       "    }\n",
       "\n",
       "    .dataframe thead th {\n",
       "        text-align: right;\n",
       "    }\n",
       "</style>\n",
       "<table border=\"1\" class=\"dataframe\">\n",
       "  <thead>\n",
       "    <tr style=\"text-align: right;\">\n",
       "      <th>Rating</th>\n",
       "      <th>RecipeName</th>\n",
       "      <th>0</th>\n",
       "      <th>1</th>\n",
       "      <th>2</th>\n",
       "      <th>3</th>\n",
       "      <th>4</th>\n",
       "      <th>5</th>\n",
       "    </tr>\n",
       "  </thead>\n",
       "  <tbody>\n",
       "    <tr>\n",
       "      <th>0</th>\n",
       "      <td>Amish Breakfast Casserole</td>\n",
       "      <td>12.00</td>\n",
       "      <td>4.00</td>\n",
       "      <td>2.00</td>\n",
       "      <td>9.00</td>\n",
       "      <td>27.00</td>\n",
       "      <td>195.00</td>\n",
       "    </tr>\n",
       "    <tr>\n",
       "      <th>1</th>\n",
       "      <td>Apple Pie</td>\n",
       "      <td>16.00</td>\n",
       "      <td>8.00</td>\n",
       "      <td>8.00</td>\n",
       "      <td>5.00</td>\n",
       "      <td>12.00</td>\n",
       "      <td>116.00</td>\n",
       "    </tr>\n",
       "    <tr>\n",
       "      <th>2</th>\n",
       "      <td>Asian Chicken Thighs</td>\n",
       "      <td>5.00</td>\n",
       "      <td>2.00</td>\n",
       "      <td>0.00</td>\n",
       "      <td>2.00</td>\n",
       "      <td>10.00</td>\n",
       "      <td>94.00</td>\n",
       "    </tr>\n",
       "    <tr>\n",
       "      <th>3</th>\n",
       "      <td>Bacon Macaroni Salad</td>\n",
       "      <td>2.00</td>\n",
       "      <td>1.00</td>\n",
       "      <td>1.00</td>\n",
       "      <td>5.00</td>\n",
       "      <td>10.00</td>\n",
       "      <td>53.00</td>\n",
       "    </tr>\n",
       "    <tr>\n",
       "      <th>4</th>\n",
       "      <td>Baked Mushroom Chicken</td>\n",
       "      <td>11.00</td>\n",
       "      <td>0.00</td>\n",
       "      <td>1.00</td>\n",
       "      <td>1.00</td>\n",
       "      <td>5.00</td>\n",
       "      <td>101.00</td>\n",
       "    </tr>\n",
       "    <tr>\n",
       "      <th>...</th>\n",
       "      <td>...</td>\n",
       "      <td>...</td>\n",
       "      <td>...</td>\n",
       "      <td>...</td>\n",
       "      <td>...</td>\n",
       "      <td>...</td>\n",
       "      <td>...</td>\n",
       "    </tr>\n",
       "    <tr>\n",
       "      <th>95</th>\n",
       "      <td>Vegetarian Linguine</td>\n",
       "      <td>1.00</td>\n",
       "      <td>0.00</td>\n",
       "      <td>0.00</td>\n",
       "      <td>1.00</td>\n",
       "      <td>0.00</td>\n",
       "      <td>17.00</td>\n",
       "    </tr>\n",
       "    <tr>\n",
       "      <th>96</th>\n",
       "      <td>White Bean Chicken Chili</td>\n",
       "      <td>12.00</td>\n",
       "      <td>0.00</td>\n",
       "      <td>0.00</td>\n",
       "      <td>6.00</td>\n",
       "      <td>19.00</td>\n",
       "      <td>61.00</td>\n",
       "    </tr>\n",
       "    <tr>\n",
       "      <th>97</th>\n",
       "      <td>Winning Apple Crisp</td>\n",
       "      <td>16.00</td>\n",
       "      <td>4.00</td>\n",
       "      <td>3.00</td>\n",
       "      <td>11.00</td>\n",
       "      <td>13.00</td>\n",
       "      <td>94.00</td>\n",
       "    </tr>\n",
       "    <tr>\n",
       "      <th>98</th>\n",
       "      <td>Zucchini Cupcake</td>\n",
       "      <td>19.00</td>\n",
       "      <td>0.00</td>\n",
       "      <td>2.00</td>\n",
       "      <td>3.00</td>\n",
       "      <td>25.00</td>\n",
       "      <td>155.00</td>\n",
       "    </tr>\n",
       "    <tr>\n",
       "      <th>99</th>\n",
       "      <td>Zucchini Pizza Casserole</td>\n",
       "      <td>7.00</td>\n",
       "      <td>4.00</td>\n",
       "      <td>1.00</td>\n",
       "      <td>1.00</td>\n",
       "      <td>30.00</td>\n",
       "      <td>208.00</td>\n",
       "    </tr>\n",
       "  </tbody>\n",
       "</table>\n",
       "<p>100 rows × 7 columns</p>\n",
       "</div>"
      ],
      "text/plain": [
       "Rating                 RecipeName     0    1    2     3     4      5\n",
       "0       Amish Breakfast Casserole 12.00 4.00 2.00  9.00 27.00 195.00\n",
       "1                       Apple Pie 16.00 8.00 8.00  5.00 12.00 116.00\n",
       "2            Asian Chicken Thighs  5.00 2.00 0.00  2.00 10.00  94.00\n",
       "3            Bacon Macaroni Salad  2.00 1.00 1.00  5.00 10.00  53.00\n",
       "4          Baked Mushroom Chicken 11.00 0.00 1.00  1.00  5.00 101.00\n",
       "..                            ...   ...  ...  ...   ...   ...    ...\n",
       "95            Vegetarian Linguine  1.00 0.00 0.00  1.00  0.00  17.00\n",
       "96       White Bean Chicken Chili 12.00 0.00 0.00  6.00 19.00  61.00\n",
       "97            Winning Apple Crisp 16.00 4.00 3.00 11.00 13.00  94.00\n",
       "98               Zucchini Cupcake 19.00 0.00 2.00  3.00 25.00 155.00\n",
       "99       Zucchini Pizza Casserole  7.00 4.00 1.00  1.00 30.00 208.00\n",
       "\n",
       "[100 rows x 7 columns]"
      ]
     },
     "execution_count": 21,
     "metadata": {},
     "output_type": "execute_result"
    }
   ],
   "source": [
    "# Pivot table showing, for each recipe, the counts of each rating it has received\n",
    "recipeRating = pd.pivot_table(featuresDF, values='ID', index=['RecipeName'],\n",
    "                       columns=['Rating'], aggfunc=\"count\")\n",
    "recipeRating.reset_index(inplace=True)  # Convert the index, which represents the names of the recipes, into a column of the table\n",
    "recipeRating.rename(columns={'index':'RecipeName'}) # Rename the above converted column\n",
    "recipeRating.fillna(0,inplace=True) # Replace np.nan values with 0\n",
    "recipeRating"
   ]
  },
  {
   "cell_type": "code",
   "execution_count": 22,
   "id": "6573c772",
   "metadata": {
    "execution": {
     "iopub.execute_input": "2024-04-10T13:05:13.849972Z",
     "iopub.status.busy": "2024-04-10T13:05:13.848951Z",
     "iopub.status.idle": "2024-04-10T13:05:13.875305Z",
     "shell.execute_reply": "2024-04-10T13:05:13.874150Z"
    },
    "papermill": {
     "duration": 0.054049,
     "end_time": "2024-04-10T13:05:13.877333",
     "exception": false,
     "start_time": "2024-04-10T13:05:13.823284",
     "status": "completed"
    },
    "tags": []
   },
   "outputs": [
    {
     "data": {
      "text/html": [
       "<div>\n",
       "<style scoped>\n",
       "    .dataframe tbody tr th:only-of-type {\n",
       "        vertical-align: middle;\n",
       "    }\n",
       "\n",
       "    .dataframe tbody tr th {\n",
       "        vertical-align: top;\n",
       "    }\n",
       "\n",
       "    .dataframe thead th {\n",
       "        text-align: right;\n",
       "    }\n",
       "</style>\n",
       "<table border=\"1\" class=\"dataframe\">\n",
       "  <thead>\n",
       "    <tr style=\"text-align: right;\">\n",
       "      <th></th>\n",
       "      <th>RecipeNameRating</th>\n",
       "    </tr>\n",
       "  </thead>\n",
       "  <tbody>\n",
       "    <tr>\n",
       "      <th>0</th>\n",
       "      <td>3.72</td>\n",
       "    </tr>\n",
       "    <tr>\n",
       "      <th>1</th>\n",
       "      <td>2.99</td>\n",
       "    </tr>\n",
       "    <tr>\n",
       "      <th>2</th>\n",
       "      <td>2.81</td>\n",
       "    </tr>\n",
       "    <tr>\n",
       "      <th>3</th>\n",
       "      <td>3.04</td>\n",
       "    </tr>\n",
       "    <tr>\n",
       "      <th>4</th>\n",
       "      <td>2.89</td>\n",
       "    </tr>\n",
       "    <tr>\n",
       "      <th>...</th>\n",
       "      <td>...</td>\n",
       "    </tr>\n",
       "    <tr>\n",
       "      <th>13631</th>\n",
       "      <td>2.93</td>\n",
       "    </tr>\n",
       "    <tr>\n",
       "      <th>13632</th>\n",
       "      <td>2.92</td>\n",
       "    </tr>\n",
       "    <tr>\n",
       "      <th>13633</th>\n",
       "      <td>2.99</td>\n",
       "    </tr>\n",
       "    <tr>\n",
       "      <th>13634</th>\n",
       "      <td>2.82</td>\n",
       "    </tr>\n",
       "    <tr>\n",
       "      <th>13635</th>\n",
       "      <td>2.81</td>\n",
       "    </tr>\n",
       "  </tbody>\n",
       "</table>\n",
       "<p>13636 rows × 1 columns</p>\n",
       "</div>"
      ],
      "text/plain": [
       "       RecipeNameRating\n",
       "0                  3.72\n",
       "1                  2.99\n",
       "2                  2.81\n",
       "3                  3.04\n",
       "4                  2.89\n",
       "...                 ...\n",
       "13631              2.93\n",
       "13632              2.92\n",
       "13633              2.99\n",
       "13634              2.82\n",
       "13635              2.81\n",
       "\n",
       "[13636 rows x 1 columns]"
      ]
     },
     "execution_count": 22,
     "metadata": {},
     "output_type": "execute_result"
    }
   ],
   "source": [
    "# Function to give a weighted mean rating score to each recipe\n",
    "# Here the input df is the pivot table recipRating created in the previous cell\n",
    "def wMeanRating(df:pd.DataFrame) -> dict:    \n",
    "    npDF = df.to_numpy()    # Convert input dataframe to numpy array \n",
    "    d = {}  # Output dictionary in which recipe names will be keys and weighted mean rating will be the value\n",
    "\n",
    "    for row in npDF:\n",
    "        d[row[0]] = np.average(\n",
    "            # List of ratings\n",
    "            [0,1,2,3,4,5],\n",
    "            # List of weights\n",
    "            weights = [\n",
    "                np.log(row[4]+1),   # Weight for rating 0 based on log(count(rating=3))\n",
    "                np.log(row[5]+1),   # Weight for rating 1 based on log(count(rating=4))\n",
    "                np.log(row[5]+1),   # Weight for rating 2 based on log(count(rating=4))\n",
    "                np.log(row[4]+1),   # Weight for rating 3 based on log(count(rating=3))\n",
    "                np.log(row[5]+1),   # Weight for rating 4 based on log(count(rating=4))\n",
    "                np.log(row[6]+1)   # Weight for rating 5 based on log(count(rating=5))\n",
    "            ]   # Add 1 inside log() to avoid nan in the final output as log(0) might create an issue\n",
    "            )  \n",
    "    return d\n",
    "\n",
    "# Function which matches a given recipe with its corresponding wMeanRating score\n",
    "def matchRating(d:dict, row):\n",
    "    try:\n",
    "        return d[row]\n",
    "    except KeyError:\n",
    "        return 0\n",
    "\n",
    "# Dictionary of recipes with their wMeanRating score\n",
    "wmrDict = wMeanRating(recipeRating)\n",
    "# print(wmrDict)\n",
    "\n",
    "featuresDF['RecipeNameRating'] = featuresDF['RecipeName'].apply(\n",
    "    lambda row: matchRating(wmrDict,row)\n",
    ")\n",
    "featuresDF[['RecipeNameRating']]"
   ]
  },
  {
   "cell_type": "markdown",
   "id": "eb42a4ea",
   "metadata": {
    "id": "M09iVTfrnU6d",
    "papermill": {
     "duration": 0.023823,
     "end_time": "2024-04-10T13:05:13.926142",
     "exception": false,
     "start_time": "2024-04-10T13:05:13.902319",
     "status": "completed"
    },
    "tags": []
   },
   "source": [
    "# Choice of Features\n",
    "\n",
    "- Since the numeric features have negligible correlation with the label vector, the text column `Recipe_Reviews` has been used to train the models.\n",
    "\n",
    "- Moreover, while building baseline models, these numeric features were used in various combinations to train various models but no combination of the numeric features gave the daequate accuracy.\n",
    "\n",
    "- Intuitively, it might seem that most of the columns in the datset should be related to `Rating` to some or the other degree. \n",
    "\n",
    "- For instance, logically, the `RecipeName` column should be related to `Rating` as certain recipes might in general attract a particular range of rating. For example, if \"chocolate cake\" were a recipe, there might be many people who like it and hence this recipe may in general get a high rating (say 4 or 5). Alternatively, in real life there are recipes attracting lower ratings.\n",
    "\n",
    "- However, such intuitive logic did not result in the required accuracy while training the models. Columns like `RecipeName`, `UserName`, `BestScore`, etc. actually did not affect the accuracy. On using these columns, the accuracy obtained on the test data was a only little over 76% and did not touch 77%. \n",
    "\n",
    "- This might be attributed to the extreme imbalance in the dataset. Had there been more samples for other ratings and thus the data more balanced, columns other than `Recipe_Reviews` might have played a more important role.\n",
    "\n",
    "- Even the new features engineered from the existing features were unable to achieve the required accueracy.\n",
    "\n",
    "- On the other hand, the text column `Recipe_Reviews` alone gave the required minimum accuracy when transformed with `TFIDFVectorizer`.\n",
    "\n",
    "- Even when numeric columns were used along with `Recipe_Reviews`, the models often overfitted during training and did not reach the minimum required accuracy of 77% during testing. Those columns were only reducing the overall accuracy of the model and hence were dropped.\n"
   ]
  },
  {
   "cell_type": "markdown",
   "id": "b9862aaa",
   "metadata": {
    "id": "_0oHpm69Exw3",
    "papermill": {
     "duration": 0.023885,
     "end_time": "2024-04-10T13:05:13.973943",
     "exception": false,
     "start_time": "2024-04-10T13:05:13.950058",
     "status": "completed"
    },
    "tags": []
   },
   "source": [
    "# KNN (K-Nearest Neighbors)\n"
   ]
  },
  {
   "cell_type": "code",
   "execution_count": 23,
   "id": "a9182cf1",
   "metadata": {
    "execution": {
     "iopub.execute_input": "2024-04-10T13:05:14.024904Z",
     "iopub.status.busy": "2024-04-10T13:05:14.024150Z",
     "iopub.status.idle": "2024-04-10T13:05:14.039718Z",
     "shell.execute_reply": "2024-04-10T13:05:14.038673Z"
    },
    "id": "4G3amY74Exw5",
    "papermill": {
     "duration": 0.043771,
     "end_time": "2024-04-10T13:05:14.041684",
     "exception": false,
     "start_time": "2024-04-10T13:05:13.997913",
     "status": "completed"
    },
    "tags": []
   },
   "outputs": [
    {
     "data": {
      "text/plain": [
       "((10908,), (2728,), (10908,), (2728,))"
      ]
     },
     "execution_count": 23,
     "metadata": {},
     "output_type": "execute_result"
    }
   ],
   "source": [
    "xtrainKnn, xtestKnn, ytrainKnn, ytestKnn = train_test_split(trainCSV['Recipe_Review'], trainCSV['Rating'], test_size=0.2, stratify=trainCSV['Rating'], random_state=3)\n",
    "xtrainKnn.shape, xtestKnn.shape, ytrainKnn.shape, ytestKnn.shape"
   ]
  },
  {
   "cell_type": "markdown",
   "id": "784c59e2",
   "metadata": {
    "id": "783BS1KvO8Yw",
    "papermill": {
     "duration": 0.023932,
     "end_time": "2024-04-10T13:05:14.090399",
     "exception": false,
     "start_time": "2024-04-10T13:05:14.066467",
     "status": "completed"
    },
    "tags": []
   },
   "source": [
    "### Tuning KNN\n"
   ]
  },
  {
   "cell_type": "code",
   "execution_count": 24,
   "id": "603cfce8",
   "metadata": {
    "execution": {
     "iopub.execute_input": "2024-04-10T13:05:14.142337Z",
     "iopub.status.busy": "2024-04-10T13:05:14.141117Z",
     "iopub.status.idle": "2024-04-10T13:05:14.147941Z",
     "shell.execute_reply": "2024-04-10T13:05:14.147235Z"
    },
    "id": "9DiP7B6HoAQW",
    "outputId": "a447ce31-132c-474c-b19d-547d709327af",
    "papermill": {
     "duration": 0.035472,
     "end_time": "2024-04-10T13:05:14.149837",
     "exception": false,
     "start_time": "2024-04-10T13:05:14.114365",
     "status": "completed"
    },
    "tags": []
   },
   "outputs": [
    {
     "data": {
      "text/plain": [
       "\"\\n{'knn__n_neighbors': 15,\\n 'tiff__max_df': 0.2,\\n 'tiff__min_df': 1,\\n 'tiff__ngram_range': (1, 2),\\n 'tiff__norm': 'l2',\\n 'tiff__sublinear_tf': True}\\n\""
      ]
     },
     "execution_count": 24,
     "metadata": {},
     "output_type": "execute_result"
    }
   ],
   "source": [
    "# knnPipe = Pipeline([\n",
    "#     ('tiff',TfidfVectorizer()),\n",
    "#     ('knn',KNeighborsClassifier())\n",
    "# ])\n",
    "\n",
    "# parameters = {\n",
    "#     \"tiff__ngram_range\":[(1,2),(1,3)],\n",
    "#     \"tiff__max_df\":[0.2,0.5],\n",
    "#     \"tiff__min_df\":[1],\n",
    "#     \"tiff__sublinear_tf\":[True,False],\n",
    "#     \"tiff__norm\":[\"l1\",\"l2\"],\n",
    "#     \"knn__n_neighbors\":[15,55,75]\n",
    "# }\n",
    "\n",
    "# knn = GridSearchCV(\n",
    "#     estimator = knnPipe,\n",
    "#     param_grid = parameters,\n",
    "#     cv=4,\n",
    "#     scoring = \"accuracy\",\n",
    "#     n_jobs = -1\n",
    "# )\n",
    "\n",
    "# knn.fit(xtrainKnn, ytrainKnn)\n",
    "\n",
    "# knn.best_params_\n",
    "\"\"\"\n",
    "{'knn__n_neighbors': 15,\n",
    " 'tiff__max_df': 0.2,\n",
    " 'tiff__min_df': 1,\n",
    " 'tiff__ngram_range': (1, 2),\n",
    " 'tiff__norm': 'l2',\n",
    " 'tiff__sublinear_tf': True}\n",
    "\"\"\""
   ]
  },
  {
   "cell_type": "markdown",
   "id": "4e006551",
   "metadata": {
    "id": "dmLpCA2-O991",
    "papermill": {
     "duration": 0.024359,
     "end_time": "2024-04-10T13:05:14.199007",
     "exception": false,
     "start_time": "2024-04-10T13:05:14.174648",
     "status": "completed"
    },
    "tags": []
   },
   "source": [
    "### Training KNN\n"
   ]
  },
  {
   "cell_type": "code",
   "execution_count": 25,
   "id": "3c63645a",
   "metadata": {
    "execution": {
     "iopub.execute_input": "2024-04-10T13:05:14.250722Z",
     "iopub.status.busy": "2024-04-10T13:05:14.249562Z",
     "iopub.status.idle": "2024-04-10T13:05:14.254667Z",
     "shell.execute_reply": "2024-04-10T13:05:14.253960Z"
    },
    "id": "8Ct07ngbExw5",
    "papermill": {
     "duration": 0.032931,
     "end_time": "2024-04-10T13:05:14.256482",
     "exception": false,
     "start_time": "2024-04-10T13:05:14.223551",
     "status": "completed"
    },
    "tags": []
   },
   "outputs": [],
   "source": [
    "knn = Pipeline([\n",
    "    ('tiff',TfidfVectorizer(ngram_range=(1,2), max_df=0.2, min_df=1, sublinear_tf=True)),\n",
    "    ('knn',KNeighborsClassifier(n_neighbors=15))\n",
    "])"
   ]
  },
  {
   "cell_type": "code",
   "execution_count": 26,
   "id": "898ee77e",
   "metadata": {
    "execution": {
     "iopub.execute_input": "2024-04-10T13:05:14.307431Z",
     "iopub.status.busy": "2024-04-10T13:05:14.306436Z",
     "iopub.status.idle": "2024-04-10T13:05:15.816375Z",
     "shell.execute_reply": "2024-04-10T13:05:15.815136Z"
    },
    "id": "MHh3z-clExw5",
    "outputId": "0830aa53-90ef-45fe-e326-af6ed15f25ce",
    "papermill": {
     "duration": 1.537737,
     "end_time": "2024-04-10T13:05:15.819105",
     "exception": false,
     "start_time": "2024-04-10T13:05:14.281368",
     "status": "completed"
    },
    "tags": []
   },
   "outputs": [
    {
     "data": {
      "text/html": [
       "<style>#sk-container-id-1 {color: black;background-color: white;}#sk-container-id-1 pre{padding: 0;}#sk-container-id-1 div.sk-toggleable {background-color: white;}#sk-container-id-1 label.sk-toggleable__label {cursor: pointer;display: block;width: 100%;margin-bottom: 0;padding: 0.3em;box-sizing: border-box;text-align: center;}#sk-container-id-1 label.sk-toggleable__label-arrow:before {content: \"▸\";float: left;margin-right: 0.25em;color: #696969;}#sk-container-id-1 label.sk-toggleable__label-arrow:hover:before {color: black;}#sk-container-id-1 div.sk-estimator:hover label.sk-toggleable__label-arrow:before {color: black;}#sk-container-id-1 div.sk-toggleable__content {max-height: 0;max-width: 0;overflow: hidden;text-align: left;background-color: #f0f8ff;}#sk-container-id-1 div.sk-toggleable__content pre {margin: 0.2em;color: black;border-radius: 0.25em;background-color: #f0f8ff;}#sk-container-id-1 input.sk-toggleable__control:checked~div.sk-toggleable__content {max-height: 200px;max-width: 100%;overflow: auto;}#sk-container-id-1 input.sk-toggleable__control:checked~label.sk-toggleable__label-arrow:before {content: \"▾\";}#sk-container-id-1 div.sk-estimator input.sk-toggleable__control:checked~label.sk-toggleable__label {background-color: #d4ebff;}#sk-container-id-1 div.sk-label input.sk-toggleable__control:checked~label.sk-toggleable__label {background-color: #d4ebff;}#sk-container-id-1 input.sk-hidden--visually {border: 0;clip: rect(1px 1px 1px 1px);clip: rect(1px, 1px, 1px, 1px);height: 1px;margin: -1px;overflow: hidden;padding: 0;position: absolute;width: 1px;}#sk-container-id-1 div.sk-estimator {font-family: monospace;background-color: #f0f8ff;border: 1px dotted black;border-radius: 0.25em;box-sizing: border-box;margin-bottom: 0.5em;}#sk-container-id-1 div.sk-estimator:hover {background-color: #d4ebff;}#sk-container-id-1 div.sk-parallel-item::after {content: \"\";width: 100%;border-bottom: 1px solid gray;flex-grow: 1;}#sk-container-id-1 div.sk-label:hover label.sk-toggleable__label {background-color: #d4ebff;}#sk-container-id-1 div.sk-serial::before {content: \"\";position: absolute;border-left: 1px solid gray;box-sizing: border-box;top: 0;bottom: 0;left: 50%;z-index: 0;}#sk-container-id-1 div.sk-serial {display: flex;flex-direction: column;align-items: center;background-color: white;padding-right: 0.2em;padding-left: 0.2em;position: relative;}#sk-container-id-1 div.sk-item {position: relative;z-index: 1;}#sk-container-id-1 div.sk-parallel {display: flex;align-items: stretch;justify-content: center;background-color: white;position: relative;}#sk-container-id-1 div.sk-item::before, #sk-container-id-1 div.sk-parallel-item::before {content: \"\";position: absolute;border-left: 1px solid gray;box-sizing: border-box;top: 0;bottom: 0;left: 50%;z-index: -1;}#sk-container-id-1 div.sk-parallel-item {display: flex;flex-direction: column;z-index: 1;position: relative;background-color: white;}#sk-container-id-1 div.sk-parallel-item:first-child::after {align-self: flex-end;width: 50%;}#sk-container-id-1 div.sk-parallel-item:last-child::after {align-self: flex-start;width: 50%;}#sk-container-id-1 div.sk-parallel-item:only-child::after {width: 0;}#sk-container-id-1 div.sk-dashed-wrapped {border: 1px dashed gray;margin: 0 0.4em 0.5em 0.4em;box-sizing: border-box;padding-bottom: 0.4em;background-color: white;}#sk-container-id-1 div.sk-label label {font-family: monospace;font-weight: bold;display: inline-block;line-height: 1.2em;}#sk-container-id-1 div.sk-label-container {text-align: center;}#sk-container-id-1 div.sk-container {/* jupyter's `normalize.less` sets `[hidden] { display: none; }` but bootstrap.min.css set `[hidden] { display: none !important; }` so we also need the `!important` here to be able to override the default hidden behavior on the sphinx rendered scikit-learn.org. See: https://github.com/scikit-learn/scikit-learn/issues/21755 */display: inline-block !important;position: relative;}#sk-container-id-1 div.sk-text-repr-fallback {display: none;}</style><div id=\"sk-container-id-1\" class=\"sk-top-container\"><div class=\"sk-text-repr-fallback\"><pre>Pipeline(steps=[(&#x27;tiff&#x27;,\n",
       "                 TfidfVectorizer(max_df=0.2, ngram_range=(1, 2),\n",
       "                                 sublinear_tf=True)),\n",
       "                (&#x27;knn&#x27;, KNeighborsClassifier(n_neighbors=15))])</pre><b>In a Jupyter environment, please rerun this cell to show the HTML representation or trust the notebook. <br />On GitHub, the HTML representation is unable to render, please try loading this page with nbviewer.org.</b></div><div class=\"sk-container\" hidden><div class=\"sk-item sk-dashed-wrapped\"><div class=\"sk-label-container\"><div class=\"sk-label sk-toggleable\"><input class=\"sk-toggleable__control sk-hidden--visually\" id=\"sk-estimator-id-1\" type=\"checkbox\" ><label for=\"sk-estimator-id-1\" class=\"sk-toggleable__label sk-toggleable__label-arrow\">Pipeline</label><div class=\"sk-toggleable__content\"><pre>Pipeline(steps=[(&#x27;tiff&#x27;,\n",
       "                 TfidfVectorizer(max_df=0.2, ngram_range=(1, 2),\n",
       "                                 sublinear_tf=True)),\n",
       "                (&#x27;knn&#x27;, KNeighborsClassifier(n_neighbors=15))])</pre></div></div></div><div class=\"sk-serial\"><div class=\"sk-item\"><div class=\"sk-estimator sk-toggleable\"><input class=\"sk-toggleable__control sk-hidden--visually\" id=\"sk-estimator-id-2\" type=\"checkbox\" ><label for=\"sk-estimator-id-2\" class=\"sk-toggleable__label sk-toggleable__label-arrow\">TfidfVectorizer</label><div class=\"sk-toggleable__content\"><pre>TfidfVectorizer(max_df=0.2, ngram_range=(1, 2), sublinear_tf=True)</pre></div></div></div><div class=\"sk-item\"><div class=\"sk-estimator sk-toggleable\"><input class=\"sk-toggleable__control sk-hidden--visually\" id=\"sk-estimator-id-3\" type=\"checkbox\" ><label for=\"sk-estimator-id-3\" class=\"sk-toggleable__label sk-toggleable__label-arrow\">KNeighborsClassifier</label><div class=\"sk-toggleable__content\"><pre>KNeighborsClassifier(n_neighbors=15)</pre></div></div></div></div></div></div></div>"
      ],
      "text/plain": [
       "Pipeline(steps=[('tiff',\n",
       "                 TfidfVectorizer(max_df=0.2, ngram_range=(1, 2),\n",
       "                                 sublinear_tf=True)),\n",
       "                ('knn', KNeighborsClassifier(n_neighbors=15))])"
      ]
     },
     "execution_count": 26,
     "metadata": {},
     "output_type": "execute_result"
    }
   ],
   "source": [
    "knn.fit(trainCSV[\"Recipe_Review\"], trainCSV[\"Rating\"])    # Gives test accuracy of 0.76264"
   ]
  },
  {
   "cell_type": "code",
   "execution_count": 27,
   "id": "d87e960c",
   "metadata": {
    "execution": {
     "iopub.execute_input": "2024-04-10T13:05:15.874846Z",
     "iopub.status.busy": "2024-04-10T13:05:15.873749Z",
     "iopub.status.idle": "2024-04-10T13:06:13.082074Z",
     "shell.execute_reply": "2024-04-10T13:06:13.080927Z"
    },
    "id": "t7DpOk2KExw6",
    "outputId": "0205746d-f11b-44d0-d0c8-f86c5c53120c",
    "papermill": {
     "duration": 57.265107,
     "end_time": "2024-04-10T13:06:13.111076",
     "exception": false,
     "start_time": "2024-04-10T13:05:15.845969",
     "status": "completed"
    },
    "tags": []
   },
   "outputs": [
    {
     "data": {
      "text/plain": [
       "0.7716275659824047"
      ]
     },
     "execution_count": 27,
     "metadata": {},
     "output_type": "execute_result"
    }
   ],
   "source": [
    "knn.score(xtestKnn, ytestKnn)"
   ]
  },
  {
   "cell_type": "code",
   "execution_count": 28,
   "id": "3f43be7f",
   "metadata": {
    "execution": {
     "iopub.execute_input": "2024-04-10T13:06:13.165146Z",
     "iopub.status.busy": "2024-04-10T13:06:13.164279Z",
     "iopub.status.idle": "2024-04-10T13:07:38.362617Z",
     "shell.execute_reply": "2024-04-10T13:07:38.361575Z"
    },
    "id": "Pxl0owCDExw6",
    "papermill": {
     "duration": 85.228435,
     "end_time": "2024-04-10T13:07:38.365384",
     "exception": false,
     "start_time": "2024-04-10T13:06:13.136949",
     "status": "completed"
    },
    "tags": []
   },
   "outputs": [],
   "source": [
    "# Prediction on TestCSV\n",
    "knn_out_pred = knn.predict(testCSV[\"Recipe_Review\"])"
   ]
  },
  {
   "cell_type": "markdown",
   "id": "cd89e446",
   "metadata": {
    "id": "M7IdsiJFExw8",
    "papermill": {
     "duration": 0.02546,
     "end_time": "2024-04-10T13:07:38.417349",
     "exception": false,
     "start_time": "2024-04-10T13:07:38.391889",
     "status": "completed"
    },
    "tags": []
   },
   "source": [
    "# Logistic Regression (Best Performing Model)\n"
   ]
  },
  {
   "cell_type": "code",
   "execution_count": 29,
   "id": "40d26056",
   "metadata": {
    "execution": {
     "iopub.execute_input": "2024-04-10T13:07:38.471031Z",
     "iopub.status.busy": "2024-04-10T13:07:38.470599Z",
     "iopub.status.idle": "2024-04-10T13:07:38.491199Z",
     "shell.execute_reply": "2024-04-10T13:07:38.490051Z"
    },
    "id": "6IvIBznYExw8",
    "papermill": {
     "duration": 0.050426,
     "end_time": "2024-04-10T13:07:38.493406",
     "exception": false,
     "start_time": "2024-04-10T13:07:38.442980",
     "status": "completed"
    },
    "tags": []
   },
   "outputs": [
    {
     "data": {
      "text/plain": [
       "((10908,), (2728,), (10908,), (2728,))"
      ]
     },
     "execution_count": 29,
     "metadata": {},
     "output_type": "execute_result"
    }
   ],
   "source": [
    "xtrainLog, xtestLog, ytrainLog, ytestLog = train_test_split(trainCSV['Recipe_Review'], trainCSV['Rating'], test_size=0.2, stratify=trainCSV['Rating'], random_state=24)\n",
    "xtrainLog.shape, xtestLog.shape, ytrainLog.shape, ytestLog.shape"
   ]
  },
  {
   "cell_type": "markdown",
   "id": "66b38c5d",
   "metadata": {
    "id": "mgwJl5v6PQnV",
    "papermill": {
     "duration": 0.026032,
     "end_time": "2024-04-10T13:07:38.545934",
     "exception": false,
     "start_time": "2024-04-10T13:07:38.519902",
     "status": "completed"
    },
    "tags": []
   },
   "source": [
    "### Tuning Logistic Regression\n"
   ]
  },
  {
   "cell_type": "code",
   "execution_count": 30,
   "id": "b6d77a00",
   "metadata": {
    "execution": {
     "iopub.execute_input": "2024-04-10T13:07:38.601708Z",
     "iopub.status.busy": "2024-04-10T13:07:38.601238Z",
     "iopub.status.idle": "2024-04-10T13:07:38.608626Z",
     "shell.execute_reply": "2024-04-10T13:07:38.607617Z"
    },
    "id": "jy8bgImCp5LM",
    "outputId": "c58f311e-c895-4e9f-a94f-2bd5d7162e90",
    "papermill": {
     "duration": 0.038633,
     "end_time": "2024-04-10T13:07:38.610696",
     "exception": false,
     "start_time": "2024-04-10T13:07:38.572063",
     "status": "completed"
    },
    "tags": []
   },
   "outputs": [
    {
     "data": {
      "text/plain": [
       "\"\\n{\\n'log__C': 10.0, \\n'log__max_iter': 500, \\n'log__penalty': 'l2', \\n'tiff__max_df': 0.5, \\n'tiff__ngram_range': (1, 3)\\n}\\n\""
      ]
     },
     "execution_count": 30,
     "metadata": {},
     "output_type": "execute_result"
    }
   ],
   "source": [
    "# logPipe = Pipeline([\n",
    "#     ('tiff',TfidfVectorizer(min_df=1, norm=None)),\n",
    "#     ('log',LogisticRegression(random_state=80, solver=\"saga\"))\n",
    "# ])\n",
    "# logPipe\n",
    "\n",
    "# parameters = {\n",
    "#     \"tiff__ngram_range\":[(1,2),(2,2),(1,3)],\n",
    "#     \"tiff__max_df\":[0.2,0.5],\n",
    "#     'log__penalty':['l1', 'l2'],\n",
    "#     \"log__max_iter\":[100,500,1000],\n",
    "#     \"log__C\":[1.0, 5.0, 10.0]\n",
    "# }\n",
    "# logGrid = GridSearchCV(\n",
    "#     estimator=logPipe,\n",
    "#     param_grid=parameters,\n",
    "#     cv=8,\n",
    "#     n_jobs=-1,\n",
    "#     scoring='accuracy',\n",
    "#     verbose=3\n",
    "# )\n",
    "\n",
    "# logGrid.fit(xtrainLog, ytrainLog)\n",
    "\n",
    "# logGrid.best_params_\n",
    "\"\"\"\n",
    "{\n",
    "'log__C': 10.0, \n",
    "'log__max_iter': 500, \n",
    "'log__penalty': 'l2', \n",
    "'tiff__max_df': 0.5, \n",
    "'tiff__ngram_range': (1, 3)\n",
    "}\n",
    "\"\"\""
   ]
  },
  {
   "cell_type": "markdown",
   "id": "3f152d74",
   "metadata": {
    "id": "I8ASZqEMPNYK",
    "papermill": {
     "duration": 0.026227,
     "end_time": "2024-04-10T13:07:38.663233",
     "exception": false,
     "start_time": "2024-04-10T13:07:38.637006",
     "status": "completed"
    },
    "tags": []
   },
   "source": [
    "### Training Logistic Regression\n"
   ]
  },
  {
   "cell_type": "code",
   "execution_count": 31,
   "id": "03e7ab56",
   "metadata": {
    "execution": {
     "iopub.execute_input": "2024-04-10T13:07:38.717627Z",
     "iopub.status.busy": "2024-04-10T13:07:38.717156Z",
     "iopub.status.idle": "2024-04-10T13:07:38.735014Z",
     "shell.execute_reply": "2024-04-10T13:07:38.734223Z"
    },
    "id": "WTr2akkiExw8",
    "outputId": "6e6c5a11-75fb-40ad-98ef-37e6bd4b3221",
    "papermill": {
     "duration": 0.048373,
     "end_time": "2024-04-10T13:07:38.736977",
     "exception": false,
     "start_time": "2024-04-10T13:07:38.688604",
     "status": "completed"
    },
    "tags": []
   },
   "outputs": [
    {
     "data": {
      "text/html": [
       "<style>#sk-container-id-2 {color: black;background-color: white;}#sk-container-id-2 pre{padding: 0;}#sk-container-id-2 div.sk-toggleable {background-color: white;}#sk-container-id-2 label.sk-toggleable__label {cursor: pointer;display: block;width: 100%;margin-bottom: 0;padding: 0.3em;box-sizing: border-box;text-align: center;}#sk-container-id-2 label.sk-toggleable__label-arrow:before {content: \"▸\";float: left;margin-right: 0.25em;color: #696969;}#sk-container-id-2 label.sk-toggleable__label-arrow:hover:before {color: black;}#sk-container-id-2 div.sk-estimator:hover label.sk-toggleable__label-arrow:before {color: black;}#sk-container-id-2 div.sk-toggleable__content {max-height: 0;max-width: 0;overflow: hidden;text-align: left;background-color: #f0f8ff;}#sk-container-id-2 div.sk-toggleable__content pre {margin: 0.2em;color: black;border-radius: 0.25em;background-color: #f0f8ff;}#sk-container-id-2 input.sk-toggleable__control:checked~div.sk-toggleable__content {max-height: 200px;max-width: 100%;overflow: auto;}#sk-container-id-2 input.sk-toggleable__control:checked~label.sk-toggleable__label-arrow:before {content: \"▾\";}#sk-container-id-2 div.sk-estimator input.sk-toggleable__control:checked~label.sk-toggleable__label {background-color: #d4ebff;}#sk-container-id-2 div.sk-label input.sk-toggleable__control:checked~label.sk-toggleable__label {background-color: #d4ebff;}#sk-container-id-2 input.sk-hidden--visually {border: 0;clip: rect(1px 1px 1px 1px);clip: rect(1px, 1px, 1px, 1px);height: 1px;margin: -1px;overflow: hidden;padding: 0;position: absolute;width: 1px;}#sk-container-id-2 div.sk-estimator {font-family: monospace;background-color: #f0f8ff;border: 1px dotted black;border-radius: 0.25em;box-sizing: border-box;margin-bottom: 0.5em;}#sk-container-id-2 div.sk-estimator:hover {background-color: #d4ebff;}#sk-container-id-2 div.sk-parallel-item::after {content: \"\";width: 100%;border-bottom: 1px solid gray;flex-grow: 1;}#sk-container-id-2 div.sk-label:hover label.sk-toggleable__label {background-color: #d4ebff;}#sk-container-id-2 div.sk-serial::before {content: \"\";position: absolute;border-left: 1px solid gray;box-sizing: border-box;top: 0;bottom: 0;left: 50%;z-index: 0;}#sk-container-id-2 div.sk-serial {display: flex;flex-direction: column;align-items: center;background-color: white;padding-right: 0.2em;padding-left: 0.2em;position: relative;}#sk-container-id-2 div.sk-item {position: relative;z-index: 1;}#sk-container-id-2 div.sk-parallel {display: flex;align-items: stretch;justify-content: center;background-color: white;position: relative;}#sk-container-id-2 div.sk-item::before, #sk-container-id-2 div.sk-parallel-item::before {content: \"\";position: absolute;border-left: 1px solid gray;box-sizing: border-box;top: 0;bottom: 0;left: 50%;z-index: -1;}#sk-container-id-2 div.sk-parallel-item {display: flex;flex-direction: column;z-index: 1;position: relative;background-color: white;}#sk-container-id-2 div.sk-parallel-item:first-child::after {align-self: flex-end;width: 50%;}#sk-container-id-2 div.sk-parallel-item:last-child::after {align-self: flex-start;width: 50%;}#sk-container-id-2 div.sk-parallel-item:only-child::after {width: 0;}#sk-container-id-2 div.sk-dashed-wrapped {border: 1px dashed gray;margin: 0 0.4em 0.5em 0.4em;box-sizing: border-box;padding-bottom: 0.4em;background-color: white;}#sk-container-id-2 div.sk-label label {font-family: monospace;font-weight: bold;display: inline-block;line-height: 1.2em;}#sk-container-id-2 div.sk-label-container {text-align: center;}#sk-container-id-2 div.sk-container {/* jupyter's `normalize.less` sets `[hidden] { display: none; }` but bootstrap.min.css set `[hidden] { display: none !important; }` so we also need the `!important` here to be able to override the default hidden behavior on the sphinx rendered scikit-learn.org. See: https://github.com/scikit-learn/scikit-learn/issues/21755 */display: inline-block !important;position: relative;}#sk-container-id-2 div.sk-text-repr-fallback {display: none;}</style><div id=\"sk-container-id-2\" class=\"sk-top-container\"><div class=\"sk-text-repr-fallback\"><pre>Pipeline(steps=[(&#x27;tiff&#x27;,\n",
       "                 TfidfVectorizer(max_df=0.5, ngram_range=(1, 3), norm=None)),\n",
       "                (&#x27;log&#x27;,\n",
       "                 LogisticRegression(C=10, max_iter=500, random_state=37,\n",
       "                                    solver=&#x27;saga&#x27;))])</pre><b>In a Jupyter environment, please rerun this cell to show the HTML representation or trust the notebook. <br />On GitHub, the HTML representation is unable to render, please try loading this page with nbviewer.org.</b></div><div class=\"sk-container\" hidden><div class=\"sk-item sk-dashed-wrapped\"><div class=\"sk-label-container\"><div class=\"sk-label sk-toggleable\"><input class=\"sk-toggleable__control sk-hidden--visually\" id=\"sk-estimator-id-4\" type=\"checkbox\" ><label for=\"sk-estimator-id-4\" class=\"sk-toggleable__label sk-toggleable__label-arrow\">Pipeline</label><div class=\"sk-toggleable__content\"><pre>Pipeline(steps=[(&#x27;tiff&#x27;,\n",
       "                 TfidfVectorizer(max_df=0.5, ngram_range=(1, 3), norm=None)),\n",
       "                (&#x27;log&#x27;,\n",
       "                 LogisticRegression(C=10, max_iter=500, random_state=37,\n",
       "                                    solver=&#x27;saga&#x27;))])</pre></div></div></div><div class=\"sk-serial\"><div class=\"sk-item\"><div class=\"sk-estimator sk-toggleable\"><input class=\"sk-toggleable__control sk-hidden--visually\" id=\"sk-estimator-id-5\" type=\"checkbox\" ><label for=\"sk-estimator-id-5\" class=\"sk-toggleable__label sk-toggleable__label-arrow\">TfidfVectorizer</label><div class=\"sk-toggleable__content\"><pre>TfidfVectorizer(max_df=0.5, ngram_range=(1, 3), norm=None)</pre></div></div></div><div class=\"sk-item\"><div class=\"sk-estimator sk-toggleable\"><input class=\"sk-toggleable__control sk-hidden--visually\" id=\"sk-estimator-id-6\" type=\"checkbox\" ><label for=\"sk-estimator-id-6\" class=\"sk-toggleable__label sk-toggleable__label-arrow\">LogisticRegression</label><div class=\"sk-toggleable__content\"><pre>LogisticRegression(C=10, max_iter=500, random_state=37, solver=&#x27;saga&#x27;)</pre></div></div></div></div></div></div></div>"
      ],
      "text/plain": [
       "Pipeline(steps=[('tiff',\n",
       "                 TfidfVectorizer(max_df=0.5, ngram_range=(1, 3), norm=None)),\n",
       "                ('log',\n",
       "                 LogisticRegression(C=10, max_iter=500, random_state=37,\n",
       "                                    solver='saga'))])"
      ]
     },
     "execution_count": 31,
     "metadata": {},
     "output_type": "execute_result"
    }
   ],
   "source": [
    "logPipe = Pipeline([\n",
    "    ('tiff',TfidfVectorizer(min_df=1, max_df=0.5, ngram_range=(1,3), norm=None)),\n",
    "    ('log',LogisticRegression(random_state=37, solver=\"saga\", C=10, max_iter=500, penalty=\"l2\",))\n",
    "])\n",
    "logPipe"
   ]
  },
  {
   "cell_type": "code",
   "execution_count": 32,
   "id": "0bf33463",
   "metadata": {
    "execution": {
     "iopub.execute_input": "2024-04-10T13:07:38.791409Z",
     "iopub.status.busy": "2024-04-10T13:07:38.790971Z",
     "iopub.status.idle": "2024-04-10T13:08:37.944117Z",
     "shell.execute_reply": "2024-04-10T13:08:37.942941Z"
    },
    "id": "k66yHCMQExw8",
    "outputId": "4bc5a185-0e57-45b4-c66b-96c4387aff0d",
    "papermill": {
     "duration": 59.210475,
     "end_time": "2024-04-10T13:08:37.973992",
     "exception": false,
     "start_time": "2024-04-10T13:07:38.763517",
     "status": "completed"
    },
    "tags": []
   },
   "outputs": [
    {
     "data": {
      "text/html": [
       "<style>#sk-container-id-3 {color: black;background-color: white;}#sk-container-id-3 pre{padding: 0;}#sk-container-id-3 div.sk-toggleable {background-color: white;}#sk-container-id-3 label.sk-toggleable__label {cursor: pointer;display: block;width: 100%;margin-bottom: 0;padding: 0.3em;box-sizing: border-box;text-align: center;}#sk-container-id-3 label.sk-toggleable__label-arrow:before {content: \"▸\";float: left;margin-right: 0.25em;color: #696969;}#sk-container-id-3 label.sk-toggleable__label-arrow:hover:before {color: black;}#sk-container-id-3 div.sk-estimator:hover label.sk-toggleable__label-arrow:before {color: black;}#sk-container-id-3 div.sk-toggleable__content {max-height: 0;max-width: 0;overflow: hidden;text-align: left;background-color: #f0f8ff;}#sk-container-id-3 div.sk-toggleable__content pre {margin: 0.2em;color: black;border-radius: 0.25em;background-color: #f0f8ff;}#sk-container-id-3 input.sk-toggleable__control:checked~div.sk-toggleable__content {max-height: 200px;max-width: 100%;overflow: auto;}#sk-container-id-3 input.sk-toggleable__control:checked~label.sk-toggleable__label-arrow:before {content: \"▾\";}#sk-container-id-3 div.sk-estimator input.sk-toggleable__control:checked~label.sk-toggleable__label {background-color: #d4ebff;}#sk-container-id-3 div.sk-label input.sk-toggleable__control:checked~label.sk-toggleable__label {background-color: #d4ebff;}#sk-container-id-3 input.sk-hidden--visually {border: 0;clip: rect(1px 1px 1px 1px);clip: rect(1px, 1px, 1px, 1px);height: 1px;margin: -1px;overflow: hidden;padding: 0;position: absolute;width: 1px;}#sk-container-id-3 div.sk-estimator {font-family: monospace;background-color: #f0f8ff;border: 1px dotted black;border-radius: 0.25em;box-sizing: border-box;margin-bottom: 0.5em;}#sk-container-id-3 div.sk-estimator:hover {background-color: #d4ebff;}#sk-container-id-3 div.sk-parallel-item::after {content: \"\";width: 100%;border-bottom: 1px solid gray;flex-grow: 1;}#sk-container-id-3 div.sk-label:hover label.sk-toggleable__label {background-color: #d4ebff;}#sk-container-id-3 div.sk-serial::before {content: \"\";position: absolute;border-left: 1px solid gray;box-sizing: border-box;top: 0;bottom: 0;left: 50%;z-index: 0;}#sk-container-id-3 div.sk-serial {display: flex;flex-direction: column;align-items: center;background-color: white;padding-right: 0.2em;padding-left: 0.2em;position: relative;}#sk-container-id-3 div.sk-item {position: relative;z-index: 1;}#sk-container-id-3 div.sk-parallel {display: flex;align-items: stretch;justify-content: center;background-color: white;position: relative;}#sk-container-id-3 div.sk-item::before, #sk-container-id-3 div.sk-parallel-item::before {content: \"\";position: absolute;border-left: 1px solid gray;box-sizing: border-box;top: 0;bottom: 0;left: 50%;z-index: -1;}#sk-container-id-3 div.sk-parallel-item {display: flex;flex-direction: column;z-index: 1;position: relative;background-color: white;}#sk-container-id-3 div.sk-parallel-item:first-child::after {align-self: flex-end;width: 50%;}#sk-container-id-3 div.sk-parallel-item:last-child::after {align-self: flex-start;width: 50%;}#sk-container-id-3 div.sk-parallel-item:only-child::after {width: 0;}#sk-container-id-3 div.sk-dashed-wrapped {border: 1px dashed gray;margin: 0 0.4em 0.5em 0.4em;box-sizing: border-box;padding-bottom: 0.4em;background-color: white;}#sk-container-id-3 div.sk-label label {font-family: monospace;font-weight: bold;display: inline-block;line-height: 1.2em;}#sk-container-id-3 div.sk-label-container {text-align: center;}#sk-container-id-3 div.sk-container {/* jupyter's `normalize.less` sets `[hidden] { display: none; }` but bootstrap.min.css set `[hidden] { display: none !important; }` so we also need the `!important` here to be able to override the default hidden behavior on the sphinx rendered scikit-learn.org. See: https://github.com/scikit-learn/scikit-learn/issues/21755 */display: inline-block !important;position: relative;}#sk-container-id-3 div.sk-text-repr-fallback {display: none;}</style><div id=\"sk-container-id-3\" class=\"sk-top-container\"><div class=\"sk-text-repr-fallback\"><pre>Pipeline(steps=[(&#x27;tiff&#x27;,\n",
       "                 TfidfVectorizer(max_df=0.5, ngram_range=(1, 3), norm=None)),\n",
       "                (&#x27;log&#x27;,\n",
       "                 LogisticRegression(C=10, max_iter=500, random_state=37,\n",
       "                                    solver=&#x27;saga&#x27;))])</pre><b>In a Jupyter environment, please rerun this cell to show the HTML representation or trust the notebook. <br />On GitHub, the HTML representation is unable to render, please try loading this page with nbviewer.org.</b></div><div class=\"sk-container\" hidden><div class=\"sk-item sk-dashed-wrapped\"><div class=\"sk-label-container\"><div class=\"sk-label sk-toggleable\"><input class=\"sk-toggleable__control sk-hidden--visually\" id=\"sk-estimator-id-7\" type=\"checkbox\" ><label for=\"sk-estimator-id-7\" class=\"sk-toggleable__label sk-toggleable__label-arrow\">Pipeline</label><div class=\"sk-toggleable__content\"><pre>Pipeline(steps=[(&#x27;tiff&#x27;,\n",
       "                 TfidfVectorizer(max_df=0.5, ngram_range=(1, 3), norm=None)),\n",
       "                (&#x27;log&#x27;,\n",
       "                 LogisticRegression(C=10, max_iter=500, random_state=37,\n",
       "                                    solver=&#x27;saga&#x27;))])</pre></div></div></div><div class=\"sk-serial\"><div class=\"sk-item\"><div class=\"sk-estimator sk-toggleable\"><input class=\"sk-toggleable__control sk-hidden--visually\" id=\"sk-estimator-id-8\" type=\"checkbox\" ><label for=\"sk-estimator-id-8\" class=\"sk-toggleable__label sk-toggleable__label-arrow\">TfidfVectorizer</label><div class=\"sk-toggleable__content\"><pre>TfidfVectorizer(max_df=0.5, ngram_range=(1, 3), norm=None)</pre></div></div></div><div class=\"sk-item\"><div class=\"sk-estimator sk-toggleable\"><input class=\"sk-toggleable__control sk-hidden--visually\" id=\"sk-estimator-id-9\" type=\"checkbox\" ><label for=\"sk-estimator-id-9\" class=\"sk-toggleable__label sk-toggleable__label-arrow\">LogisticRegression</label><div class=\"sk-toggleable__content\"><pre>LogisticRegression(C=10, max_iter=500, random_state=37, solver=&#x27;saga&#x27;)</pre></div></div></div></div></div></div></div>"
      ],
      "text/plain": [
       "Pipeline(steps=[('tiff',\n",
       "                 TfidfVectorizer(max_df=0.5, ngram_range=(1, 3), norm=None)),\n",
       "                ('log',\n",
       "                 LogisticRegression(C=10, max_iter=500, random_state=37,\n",
       "                                    solver='saga'))])"
      ]
     },
     "execution_count": 32,
     "metadata": {},
     "output_type": "execute_result"
    }
   ],
   "source": [
    "logPipe.fit(xtrainLog, ytrainLog)  "
   ]
  },
  {
   "cell_type": "code",
   "execution_count": 33,
   "id": "66d1d40b",
   "metadata": {
    "execution": {
     "iopub.execute_input": "2024-04-10T13:08:38.028954Z",
     "iopub.status.busy": "2024-04-10T13:08:38.028527Z",
     "iopub.status.idle": "2024-04-10T13:08:38.389887Z",
     "shell.execute_reply": "2024-04-10T13:08:38.388823Z"
    },
    "id": "k_VnmPYBExw8",
    "outputId": "2686b57f-cc38-49a6-a153-0504d11a50d3",
    "papermill": {
     "duration": 0.392166,
     "end_time": "2024-04-10T13:08:38.392422",
     "exception": false,
     "start_time": "2024-04-10T13:08:38.000256",
     "status": "completed"
    },
    "tags": []
   },
   "outputs": [
    {
     "data": {
      "text/plain": [
       "0.782258064516129"
      ]
     },
     "execution_count": 33,
     "metadata": {},
     "output_type": "execute_result"
    }
   ],
   "source": [
    "logPipe.score(xtestLog, ytestLog) # 0.782258064516129"
   ]
  },
  {
   "cell_type": "code",
   "execution_count": 34,
   "id": "47c09805",
   "metadata": {
    "execution": {
     "iopub.execute_input": "2024-04-10T13:08:38.449338Z",
     "iopub.status.busy": "2024-04-10T13:08:38.448838Z",
     "iopub.status.idle": "2024-04-10T13:08:39.037191Z",
     "shell.execute_reply": "2024-04-10T13:08:39.036168Z"
    },
    "id": "JGb1eMxqExw9",
    "papermill": {
     "duration": 0.619741,
     "end_time": "2024-04-10T13:08:39.040024",
     "exception": false,
     "start_time": "2024-04-10T13:08:38.420283",
     "status": "completed"
    },
    "tags": []
   },
   "outputs": [],
   "source": [
    "# Prediction on TestCSV\n",
    "logPipe_out_pred = logPipe.predict(testCSV['Recipe_Review'])"
   ]
  },
  {
   "cell_type": "markdown",
   "id": "42577f18",
   "metadata": {
    "id": "_SG9AAAQExw6",
    "papermill": {
     "duration": 0.025738,
     "end_time": "2024-04-10T13:08:39.092544",
     "exception": false,
     "start_time": "2024-04-10T13:08:39.066806",
     "status": "completed"
    },
    "tags": []
   },
   "source": [
    "# XGBoost\n"
   ]
  },
  {
   "cell_type": "markdown",
   "id": "07334099",
   "metadata": {
    "id": "sIc8QmZRExw7",
    "papermill": {
     "duration": 0.025694,
     "end_time": "2024-04-10T13:08:39.144599",
     "exception": false,
     "start_time": "2024-04-10T13:08:39.118905",
     "status": "completed"
    },
    "tags": []
   },
   "source": [
    "- When tuning XGBoost, TFIDF's parameters have not been tuned along with XGBoost to avoid long computation time.\n",
    "  <br><br>\n",
    "- Instead, the best parameters for TFIDF obtained while tuning Logistic Regression model have been used in tandem with the best parameters of XGBoost.\n",
    "  <br><br>\n",
    "- The best TFIDF parameters obtained were from logistic regression -> `TfidfVectorizer(ngram_range=(1, 3), max_df=0.5, min_df=1)`\n",
    "  <br><br>\n",
    "- Also, while training XGBoost, the TFIDF vectorizer was used outside a pipeline and both - training as well as test data were transformed before training the XGBoost model. This was not the case in KNN and Logistic regression models, where TFIDF was applied inside a pipeline.\n",
    "  <br><br>\n",
    "- This, again, was done to save computation time and avoid tuning TFIDF and XGBoost at the same time.\n"
   ]
  },
  {
   "cell_type": "code",
   "execution_count": 35,
   "id": "bd8a7811",
   "metadata": {
    "execution": {
     "iopub.execute_input": "2024-04-10T13:08:39.198884Z",
     "iopub.status.busy": "2024-04-10T13:08:39.197839Z",
     "iopub.status.idle": "2024-04-10T13:08:43.284978Z",
     "shell.execute_reply": "2024-04-10T13:08:43.283782Z"
    },
    "id": "QOYQ9P2nExw7",
    "papermill": {
     "duration": 4.117298,
     "end_time": "2024-04-10T13:08:43.287763",
     "exception": false,
     "start_time": "2024-04-10T13:08:39.170465",
     "status": "completed"
    },
    "tags": []
   },
   "outputs": [],
   "source": [
    "tifferLog= TfidfVectorizer(min_df=1, max_df=0.5, ngram_range=(1,3), norm=None)\n",
    "xTrainTfidf = tifferLog.fit_transform(trainCSV['Recipe_Review'])\n",
    "xTestTfidf = tifferLog.transform(testCSV['Recipe_Review'])"
   ]
  },
  {
   "cell_type": "code",
   "execution_count": 36,
   "id": "db56b589",
   "metadata": {
    "execution": {
     "iopub.execute_input": "2024-04-10T13:08:43.346775Z",
     "iopub.status.busy": "2024-04-10T13:08:43.346322Z",
     "iopub.status.idle": "2024-04-10T13:08:43.371780Z",
     "shell.execute_reply": "2024-04-10T13:08:43.370639Z"
    },
    "id": "TwU8tK7pExw7",
    "outputId": "732e4769-130a-485c-81ee-7121fdf18c46",
    "papermill": {
     "duration": 0.057202,
     "end_time": "2024-04-10T13:08:43.373958",
     "exception": false,
     "start_time": "2024-04-10T13:08:43.316756",
     "status": "completed"
    },
    "tags": []
   },
   "outputs": [
    {
     "data": {
      "text/plain": [
       "((10908, 425707), (10908,), (2728, 425707), (2728,))"
      ]
     },
     "execution_count": 36,
     "metadata": {},
     "output_type": "execute_result"
    }
   ],
   "source": [
    "xtrainXGB,xtestXGB,ytrainXGB,ytestXGB = train_test_split(xTrainTfidf, trainCSV['Rating'],test_size=0.2,shuffle=True,stratify=trainCSV['Rating'],random_state=55)\n",
    "xtrainXGB.shape,ytrainXGB.shape, xtestXGB.shape,ytestXGB.shape"
   ]
  },
  {
   "cell_type": "markdown",
   "id": "7fa06b9b",
   "metadata": {
    "id": "B33adIK9N8Ho",
    "papermill": {
     "duration": 0.026936,
     "end_time": "2024-04-10T13:08:43.427417",
     "exception": false,
     "start_time": "2024-04-10T13:08:43.400481",
     "status": "completed"
    },
    "tags": []
   },
   "source": [
    "### Tuning XGBoost\n"
   ]
  },
  {
   "cell_type": "code",
   "execution_count": 37,
   "id": "8578b97a",
   "metadata": {
    "execution": {
     "iopub.execute_input": "2024-04-10T13:08:43.482960Z",
     "iopub.status.busy": "2024-04-10T13:08:43.482194Z",
     "iopub.status.idle": "2024-04-10T13:08:43.487231Z",
     "shell.execute_reply": "2024-04-10T13:08:43.486438Z"
    },
    "id": "Gkp3Z0L-N530",
    "papermill": {
     "duration": 0.035475,
     "end_time": "2024-04-10T13:08:43.489447",
     "exception": false,
     "start_time": "2024-04-10T13:08:43.453972",
     "status": "completed"
    },
    "tags": []
   },
   "outputs": [],
   "source": [
    "# learning_rate_list = [0.02, 0.05, 0.1, 1]\n",
    "# max_depth_list = [4, 6, 8]\n",
    "\n",
    "# params_dict = {\"learning_rate\": learning_rate_list,\n",
    "#                \"max_depth\": max_depth_list,\n",
    "#             }\n",
    "\n",
    "# xgbGrid = GridSearchCV(estimator=XGBClassifier(),\n",
    "#             param_grid=params_dict,\n",
    "#             cv=8,\n",
    "#             return_train_score=True,\n",
    "#             verbose=10)\n",
    "\n",
    "# xgbGrid.fit(xtrainXGB,ytrainXGB)\n",
    "\n",
    "# xgb.best_params_\n",
    "# {'learning_rate': 0.1, 'max_depth': 8}"
   ]
  },
  {
   "cell_type": "markdown",
   "id": "54aa99db",
   "metadata": {
    "id": "PYFw84zxExw8",
    "papermill": {
     "duration": 0.027055,
     "end_time": "2024-04-10T13:08:43.543302",
     "exception": false,
     "start_time": "2024-04-10T13:08:43.516247",
     "status": "completed"
    },
    "tags": []
   },
   "source": [
    "### Train XGBoost\n"
   ]
  },
  {
   "cell_type": "code",
   "execution_count": 38,
   "id": "fe030db0",
   "metadata": {
    "execution": {
     "iopub.execute_input": "2024-04-10T13:08:43.599629Z",
     "iopub.status.busy": "2024-04-10T13:08:43.599148Z",
     "iopub.status.idle": "2024-04-10T13:15:20.630212Z",
     "shell.execute_reply": "2024-04-10T13:15:20.629366Z"
    },
    "id": "2wZy0iNCExw8",
    "outputId": "cfa55488-7f5d-4eb7-eea3-4f7ff59ec208",
    "papermill": {
     "duration": 397.089464,
     "end_time": "2024-04-10T13:15:20.660346",
     "exception": false,
     "start_time": "2024-04-10T13:08:43.570882",
     "status": "completed"
    },
    "tags": []
   },
   "outputs": [
    {
     "data": {
      "text/plain": [
       "0.7690615835777126"
      ]
     },
     "execution_count": 38,
     "metadata": {},
     "output_type": "execute_result"
    }
   ],
   "source": [
    "xgb = XGBClassifier(learning_rate=0.1, max_depth=8)\n",
    "xgb.fit(xtrainXGB,ytrainXGB)   # Gives test accuracy of 0.77386\n",
    "xgb.score(xtestXGB, ytestXGB)    # 0.7690615835777126"
   ]
  },
  {
   "cell_type": "code",
   "execution_count": 39,
   "id": "61d30121",
   "metadata": {
    "execution": {
     "iopub.execute_input": "2024-04-10T13:15:20.716254Z",
     "iopub.status.busy": "2024-04-10T13:15:20.715594Z",
     "iopub.status.idle": "2024-04-10T13:15:21.061718Z",
     "shell.execute_reply": "2024-04-10T13:15:21.060751Z"
    },
    "id": "J6u7DvvqExw8",
    "papermill": {
     "duration": 0.377206,
     "end_time": "2024-04-10T13:15:21.064400",
     "exception": false,
     "start_time": "2024-04-10T13:15:20.687194",
     "status": "completed"
    },
    "tags": []
   },
   "outputs": [],
   "source": [
    "# Prediction on TestCSV\n",
    "xgb_out_pred = xgb.predict(xTestTfidf)"
   ]
  },
  {
   "cell_type": "markdown",
   "id": "4b8bc6dc",
   "metadata": {
    "papermill": {
     "duration": 0.027156,
     "end_time": "2024-04-10T13:15:21.118948",
     "exception": false,
     "start_time": "2024-04-10T13:15:21.091792",
     "status": "completed"
    },
    "tags": []
   },
   "source": [
    "# Multi-Layered Perceptron"
   ]
  },
  {
   "cell_type": "code",
   "execution_count": 40,
   "id": "f668fb19",
   "metadata": {
    "execution": {
     "iopub.execute_input": "2024-04-10T13:15:21.174824Z",
     "iopub.status.busy": "2024-04-10T13:15:21.174147Z",
     "iopub.status.idle": "2024-04-10T14:30:39.071595Z",
     "shell.execute_reply": "2024-04-10T14:30:39.070365Z"
    },
    "papermill": {
     "duration": 4517.929119,
     "end_time": "2024-04-10T14:30:39.074673",
     "exception": false,
     "start_time": "2024-04-10T13:15:21.145554",
     "status": "completed"
    },
    "tags": []
   },
   "outputs": [
    {
     "name": "stdout",
     "output_type": "stream",
     "text": [
      "(10908,) (2728,) (10908,) (2728,)\n",
      "Iteration 1, loss = 0.91527603\n",
      "Iteration 2, loss = 0.20888693\n",
      "Iteration 3, loss = 0.08884866\n",
      "Iteration 4, loss = 0.05716614\n",
      "Iteration 5, loss = 0.04277732\n",
      "Iteration 6, loss = 0.03468098\n",
      "Iteration 7, loss = 0.02915590\n",
      "Iteration 8, loss = 0.02544712\n",
      "Iteration 9, loss = 0.02265152\n",
      "Iteration 10, loss = 0.02057945\n",
      "Iteration 11, loss = 0.01896913\n",
      "Iteration 12, loss = 0.01766545\n",
      "Iteration 13, loss = 0.01659325\n",
      "Iteration 14, loss = 0.01566178\n",
      "Iteration 15, loss = 0.01488529\n",
      "Iteration 16, loss = 0.01420422\n",
      "Iteration 17, loss = 0.01368297\n",
      "Iteration 18, loss = 0.01322644\n",
      "Iteration 19, loss = 0.01284894\n",
      "Iteration 20, loss = 0.01245072\n",
      "Iteration 21, loss = 0.01209188\n",
      "Iteration 22, loss = 0.01186044\n",
      "Iteration 23, loss = 0.01155568\n",
      "Iteration 24, loss = 0.01127525\n",
      "Iteration 25, loss = 0.01108037\n",
      "Iteration 26, loss = 0.01084673\n",
      "Iteration 27, loss = 0.01068862\n",
      "Iteration 28, loss = 0.01053486\n",
      "Iteration 29, loss = 0.01038708\n",
      "Iteration 30, loss = 0.01036924\n",
      "Iteration 31, loss = 0.01023860\n",
      "Iteration 32, loss = 0.01011836\n",
      "Iteration 33, loss = 0.00990282\n",
      "Iteration 34, loss = 0.00986373\n",
      "Iteration 35, loss = 0.00978146\n",
      "Iteration 36, loss = 0.00965520\n",
      "Iteration 37, loss = 0.00964179\n",
      "Iteration 38, loss = 0.00957482\n",
      "Iteration 39, loss = 0.00948741\n",
      "Iteration 40, loss = 0.00942236\n",
      "Iteration 41, loss = 0.00948947\n",
      "Iteration 42, loss = 0.00936196\n",
      "Iteration 43, loss = 0.00931047\n",
      "Iteration 44, loss = 0.00924920\n",
      "Iteration 45, loss = 0.00917706\n",
      "Iteration 46, loss = 0.00920191\n",
      "Iteration 47, loss = 0.00912688\n",
      "Training loss did not improve more than tol=0.000100 for 10 consecutive epochs. Stopping.\n"
     ]
    },
    {
     "data": {
      "text/plain": [
       "0.7778592375366569"
      ]
     },
     "execution_count": 40,
     "metadata": {},
     "output_type": "execute_result"
    }
   ],
   "source": [
    "xtrainMLP, xtestMLP, ytrainMLP, ytestMLP = train_test_split(\n",
    "    trainCSV['Recipe_Review'],\n",
    "    trainCSV[\"Rating\"],\n",
    "    test_size=0.2,random_state=42,stratify=trainCSV[\"Rating\"], shuffle=True)\n",
    "print(xtrainMLP.shape, xtestMLP.shape, ytrainMLP.shape, ytestMLP.shape)\n",
    "\n",
    "from sklearn.neural_network import MLPClassifier\n",
    "mlp = Pipeline([\n",
    "    ('tiff',TfidfVectorizer(min_df=1, max_df=0.5, ngram_range=(1,3), norm=None)),\n",
    "    ('mlp', MLPClassifier(activation='logistic', solver='adam', max_iter=200, \n",
    "                          alpha=0.000001, random_state=24, verbose=10,))\n",
    "                         ##tol=1e-8, early_stopping=True))\n",
    "])\n",
    "mlp.fit(xtrainMLP, ytrainMLP)\n",
    "mlp.score(xtestMLP, ytestMLP)"
   ]
  },
  {
   "cell_type": "code",
   "execution_count": 41,
   "id": "c3c6e96a",
   "metadata": {
    "execution": {
     "iopub.execute_input": "2024-04-10T14:30:39.178902Z",
     "iopub.status.busy": "2024-04-10T14:30:39.178284Z",
     "iopub.status.idle": "2024-04-10T14:30:39.858228Z",
     "shell.execute_reply": "2024-04-10T14:30:39.856830Z"
    },
    "papermill": {
     "duration": 0.73623,
     "end_time": "2024-04-10T14:30:39.862174",
     "exception": false,
     "start_time": "2024-04-10T14:30:39.125944",
     "status": "completed"
    },
    "tags": []
   },
   "outputs": [],
   "source": [
    "mlp_out_pred=mlp.predict(testCSV['Recipe_Review'])"
   ]
  },
  {
   "cell_type": "markdown",
   "id": "2fd8a396",
   "metadata": {
    "id": "BrIB_seGExw9",
    "papermill": {
     "duration": 0.051647,
     "end_time": "2024-04-10T14:30:39.967660",
     "exception": false,
     "start_time": "2024-04-10T14:30:39.916013",
     "status": "completed"
    },
    "tags": []
   },
   "source": [
    "# Output\n",
    "\n",
    "Predictions made on TestCSV using logistic regression have been used as the final submission\n"
   ]
  },
  {
   "cell_type": "code",
   "execution_count": 42,
   "id": "1133c154",
   "metadata": {
    "execution": {
     "iopub.execute_input": "2024-04-10T14:30:40.032770Z",
     "iopub.status.busy": "2024-04-10T14:30:40.032306Z",
     "iopub.status.idle": "2024-04-10T14:30:40.043360Z",
     "shell.execute_reply": "2024-04-10T14:30:40.042321Z"
    },
    "id": "YdjLOn0WExw9",
    "papermill": {
     "duration": 0.04491,
     "end_time": "2024-04-10T14:30:40.045511",
     "exception": false,
     "start_time": "2024-04-10T14:30:40.000601",
     "status": "completed"
    },
    "tags": []
   },
   "outputs": [
    {
     "data": {
      "text/html": [
       "<div>\n",
       "<style scoped>\n",
       "    .dataframe tbody tr th:only-of-type {\n",
       "        vertical-align: middle;\n",
       "    }\n",
       "\n",
       "    .dataframe tbody tr th {\n",
       "        vertical-align: top;\n",
       "    }\n",
       "\n",
       "    .dataframe thead th {\n",
       "        text-align: right;\n",
       "    }\n",
       "</style>\n",
       "<table border=\"1\" class=\"dataframe\">\n",
       "  <thead>\n",
       "    <tr style=\"text-align: right;\">\n",
       "      <th></th>\n",
       "      <th>ID</th>\n",
       "      <th>Rating</th>\n",
       "    </tr>\n",
       "  </thead>\n",
       "  <tbody>\n",
       "    <tr>\n",
       "      <th>0</th>\n",
       "      <td>1</td>\n",
       "      <td>5</td>\n",
       "    </tr>\n",
       "    <tr>\n",
       "      <th>1</th>\n",
       "      <td>2</td>\n",
       "      <td>5</td>\n",
       "    </tr>\n",
       "    <tr>\n",
       "      <th>2</th>\n",
       "      <td>3</td>\n",
       "      <td>5</td>\n",
       "    </tr>\n",
       "  </tbody>\n",
       "</table>\n",
       "</div>"
      ],
      "text/plain": [
       "   ID  Rating\n",
       "0   1       5\n",
       "1   2       5\n",
       "2   3       5"
      ]
     },
     "execution_count": 42,
     "metadata": {},
     "output_type": "execute_result"
    }
   ],
   "source": [
    "# DataFrame of TestCSV predictions, to be converted to CSV file and submitted \n",
    "output = pd.DataFrame(data = {\n",
    "    \"ID\":range(1,4547),\n",
    "    \"Rating\":mlp_out_pred   # Predictions made on TestCSV data\n",
    "})\n",
    "output.head(3)"
   ]
  },
  {
   "cell_type": "code",
   "execution_count": 43,
   "id": "6044caa7",
   "metadata": {
    "execution": {
     "iopub.execute_input": "2024-04-10T14:30:40.113998Z",
     "iopub.status.busy": "2024-04-10T14:30:40.113253Z",
     "iopub.status.idle": "2024-04-10T14:30:40.127571Z",
     "shell.execute_reply": "2024-04-10T14:30:40.126676Z"
    },
    "id": "1FoE_8yPExw9",
    "papermill": {
     "duration": 0.048308,
     "end_time": "2024-04-10T14:30:40.129863",
     "exception": false,
     "start_time": "2024-04-10T14:30:40.081555",
     "status": "completed"
    },
    "tags": []
   },
   "outputs": [],
   "source": [
    "# Final submission file\n",
    "with open(\"/kaggle/working/submission.csv\",\"w\") as w:\n",
    "    output.to_csv(path_or_buf=w, index=False)"
   ]
  },
  {
   "cell_type": "markdown",
   "id": "71142ee0",
   "metadata": {
    "id": "hFVZszVQoKzu",
    "papermill": {
     "duration": 0.029478,
     "end_time": "2024-04-10T14:30:40.189160",
     "exception": false,
     "start_time": "2024-04-10T14:30:40.159682",
     "status": "completed"
    },
    "tags": []
   },
   "source": [
    "# Comparison of Models\n"
   ]
  },
  {
   "cell_type": "markdown",
   "id": "e4149447",
   "metadata": {
    "papermill": {
     "duration": 0.036823,
     "end_time": "2024-04-10T14:30:40.257355",
     "exception": false,
     "start_time": "2024-04-10T14:30:40.220532",
     "status": "completed"
    },
    "tags": []
   },
   "source": [
    "### Validation Data Predictions\n"
   ]
  },
  {
   "cell_type": "code",
   "execution_count": 44,
   "id": "4252db5f",
   "metadata": {
    "execution": {
     "iopub.execute_input": "2024-04-10T14:30:40.324794Z",
     "iopub.status.busy": "2024-04-10T14:30:40.324357Z",
     "iopub.status.idle": "2024-04-10T14:31:38.294640Z",
     "shell.execute_reply": "2024-04-10T14:31:38.293556Z"
    },
    "papermill": {
     "duration": 58.004485,
     "end_time": "2024-04-10T14:31:38.297437",
     "exception": false,
     "start_time": "2024-04-10T14:30:40.292952",
     "status": "completed"
    },
    "tags": []
   },
   "outputs": [],
   "source": [
    "knnPred = knn.predict(xtestKnn)\n",
    "logPred = logPipe.predict(xtestLog)\n",
    "xgbPred = xgb.predict(xtestXGB)"
   ]
  },
  {
   "cell_type": "markdown",
   "id": "6cad0507",
   "metadata": {
    "id": "4fH2AAL_oWON",
    "papermill": {
     "duration": 0.029941,
     "end_time": "2024-04-10T14:31:38.358377",
     "exception": false,
     "start_time": "2024-04-10T14:31:38.328436",
     "status": "completed"
    },
    "tags": []
   },
   "source": [
    "### Confusion Matrix - KNN\n"
   ]
  },
  {
   "cell_type": "code",
   "execution_count": 45,
   "id": "c349838f",
   "metadata": {
    "execution": {
     "iopub.execute_input": "2024-04-10T14:31:38.422357Z",
     "iopub.status.busy": "2024-04-10T14:31:38.421602Z",
     "iopub.status.idle": "2024-04-10T14:31:38.785716Z",
     "shell.execute_reply": "2024-04-10T14:31:38.784501Z"
    },
    "id": "6_dQAdMSohvu",
    "papermill": {
     "duration": 0.399693,
     "end_time": "2024-04-10T14:31:38.788265",
     "exception": false,
     "start_time": "2024-04-10T14:31:38.388572",
     "status": "completed"
    },
    "tags": []
   },
   "outputs": [
    {
     "data": {
      "text/plain": [
       "<sklearn.metrics._plot.confusion_matrix.ConfusionMatrixDisplay at 0x7882ccff9ea0>"
      ]
     },
     "execution_count": 45,
     "metadata": {},
     "output_type": "execute_result"
    },
    {
     "data": {
      "image/png": "[encoded data removed]",
      "text/plain": [
       "<Figure size 640x480 with 2 Axes>"
      ]
     },
     "metadata": {},
     "output_type": "display_data"
    }
   ],
   "source": [
    "skm.ConfusionMatrixDisplay.from_predictions(ytestKnn, knnPred)"
   ]
  },
  {
   "cell_type": "markdown",
   "id": "99f14f81",
   "metadata": {
    "id": "9JdAJUvjoZ1b",
    "papermill": {
     "duration": 0.030723,
     "end_time": "2024-04-10T14:31:38.850625",
     "exception": false,
     "start_time": "2024-04-10T14:31:38.819902",
     "status": "completed"
    },
    "tags": []
   },
   "source": [
    "### Confusion Matrix - Logistic Regression\n"
   ]
  },
  {
   "cell_type": "code",
   "execution_count": 46,
   "id": "25594ee4",
   "metadata": {
    "execution": {
     "iopub.execute_input": "2024-04-10T14:31:38.914157Z",
     "iopub.status.busy": "2024-04-10T14:31:38.913726Z",
     "iopub.status.idle": "2024-04-10T14:31:39.264128Z",
     "shell.execute_reply": "2024-04-10T14:31:39.263216Z"
    },
    "id": "OiR-98Ulp7f6",
    "papermill": {
     "duration": 0.384754,
     "end_time": "2024-04-10T14:31:39.266366",
     "exception": false,
     "start_time": "2024-04-10T14:31:38.881612",
     "status": "completed"
    },
    "tags": []
   },
   "outputs": [
    {
     "data": {
      "text/plain": [
       "<sklearn.metrics._plot.confusion_matrix.ConfusionMatrixDisplay at 0x7882cd00ea40>"
      ]
     },
     "execution_count": 46,
     "metadata": {},
     "output_type": "execute_result"
    },
    {
     "data": {
      "image/png": "[encoded data removed]",
      "text/plain": [
       "<Figure size 640x480 with 2 Axes>"
      ]
     },
     "metadata": {},
     "output_type": "display_data"
    }
   ],
   "source": [
    "skm.ConfusionMatrixDisplay.from_predictions(ytestLog, logPred)"
   ]
  },
  {
   "cell_type": "markdown",
   "id": "3e215ffd",
   "metadata": {
    "id": "uyc2Kjxcodr-",
    "papermill": {
     "duration": 0.031261,
     "end_time": "2024-04-10T14:31:39.329373",
     "exception": false,
     "start_time": "2024-04-10T14:31:39.298112",
     "status": "completed"
    },
    "tags": []
   },
   "source": [
    "### Confusion Matrix - XGBoost\n"
   ]
  },
  {
   "cell_type": "code",
   "execution_count": 47,
   "id": "434635f5",
   "metadata": {
    "execution": {
     "iopub.execute_input": "2024-04-10T14:31:39.394688Z",
     "iopub.status.busy": "2024-04-10T14:31:39.394258Z",
     "iopub.status.idle": "2024-04-10T14:31:39.762245Z",
     "shell.execute_reply": "2024-04-10T14:31:39.760959Z"
    },
    "id": "l616FxRjqCQ1",
    "papermill": {
     "duration": 0.403661,
     "end_time": "2024-04-10T14:31:39.764566",
     "exception": false,
     "start_time": "2024-04-10T14:31:39.360905",
     "status": "completed"
    },
    "tags": []
   },
   "outputs": [
    {
     "data": {
      "text/plain": [
       "<sklearn.metrics._plot.confusion_matrix.ConfusionMatrixDisplay at 0x7882cd544370>"
      ]
     },
     "execution_count": 47,
     "metadata": {},
     "output_type": "execute_result"
    },
    {
     "data": {
      "image/png": "[encoded data removed]",
      "text/plain": [
       "<Figure size 640x480 with 2 Axes>"
      ]
     },
     "metadata": {},
     "output_type": "display_data"
    }
   ],
   "source": [
    "skm.ConfusionMatrixDisplay.from_predictions(ytestXGB, xgbPred)"
   ]
  },
  {
   "cell_type": "markdown",
   "id": "9017ad9b",
   "metadata": {
    "papermill": {
     "duration": 0.035506,
     "end_time": "2024-04-10T14:31:39.832808",
     "exception": false,
     "start_time": "2024-04-10T14:31:39.797302",
     "status": "completed"
    },
    "tags": []
   },
   "source": [
    "### Comparison of Precision, Recall, and F1 Score\n"
   ]
  },
  {
   "cell_type": "code",
   "execution_count": 48,
   "id": "b56ef80b",
   "metadata": {
    "execution": {
     "iopub.execute_input": "2024-04-10T14:31:39.902382Z",
     "iopub.status.busy": "2024-04-10T14:31:39.901520Z",
     "iopub.status.idle": "2024-04-10T14:31:39.939754Z",
     "shell.execute_reply": "2024-04-10T14:31:39.937129Z"
    },
    "papermill": {
     "duration": 0.076062,
     "end_time": "2024-04-10T14:31:39.942343",
     "exception": false,
     "start_time": "2024-04-10T14:31:39.866281",
     "status": "completed"
    },
    "tags": []
   },
   "outputs": [
    {
     "data": {
      "text/html": [
       "<div>\n",
       "<style scoped>\n",
       "    .dataframe tbody tr th:only-of-type {\n",
       "        vertical-align: middle;\n",
       "    }\n",
       "\n",
       "    .dataframe tbody tr th {\n",
       "        vertical-align: top;\n",
       "    }\n",
       "\n",
       "    .dataframe thead th {\n",
       "        text-align: right;\n",
       "    }\n",
       "</style>\n",
       "<table border=\"1\" class=\"dataframe\">\n",
       "  <thead>\n",
       "    <tr style=\"text-align: right;\">\n",
       "      <th></th>\n",
       "      <th>Precision</th>\n",
       "      <th>Recall</th>\n",
       "      <th>F1 Score</th>\n",
       "    </tr>\n",
       "  </thead>\n",
       "  <tbody>\n",
       "    <tr>\n",
       "      <th>KNN</th>\n",
       "      <td>0.74</td>\n",
       "      <td>0.77</td>\n",
       "      <td>0.69</td>\n",
       "    </tr>\n",
       "    <tr>\n",
       "      <th>Logistic Regression</th>\n",
       "      <td>0.73</td>\n",
       "      <td>0.78</td>\n",
       "      <td>0.73</td>\n",
       "    </tr>\n",
       "    <tr>\n",
       "      <th>XGBoost</th>\n",
       "      <td>0.70</td>\n",
       "      <td>0.77</td>\n",
       "      <td>0.69</td>\n",
       "    </tr>\n",
       "  </tbody>\n",
       "</table>\n",
       "</div>"
      ],
      "text/plain": [
       "                     Precision  Recall  F1 Score\n",
       "KNN                       0.74    0.77      0.69\n",
       "Logistic Regression       0.73    0.78      0.73\n",
       "XGBoost                   0.70    0.77      0.69"
      ]
     },
     "execution_count": 48,
     "metadata": {},
     "output_type": "execute_result"
    }
   ],
   "source": [
    "# Table of precision, recall, f1 scores of all the 3 models\n",
    "prf = pd.DataFrame(data=\n",
    "    {\n",
    "        \"Precision\": [\n",
    "            skm.precision_score(ytestKnn, knnPred, average='weighted'),  # KNN precision\n",
    "            skm.precision_score(ytestLog, logPred, average='weighted'),  # Logistic precision\n",
    "            skm.precision_score(ytestXGB, xgbPred, average='weighted')   # XGBoost precision\n",
    "        ],\n",
    "        \"Recall\": [\n",
    "            skm.recall_score(ytestKnn, knnPred, average='weighted'),  # KNN recall\n",
    "            skm.recall_score(ytestLog, logPred, average='weighted'),  # Logistic recall\n",
    "            skm.recall_score(ytestXGB, xgbPred, average='weighted')   # XGBoost recall\n",
    "        ],\n",
    "        \"F1 Score\": [\n",
    "            skm.f1_score(ytestKnn, knnPred, average='weighted'),  # KNN F1 score\n",
    "            skm.f1_score(ytestLog, logPred, average='weighted'),  # Logistic F1 score\n",
    "            skm.f1_score(ytestXGB, xgbPred, average='weighted')   # XGBoost F1 score\n",
    "        ]\n",
    "    },\n",
    "    index = [\"KNN\", \"Logistic Regression\", \"XGBoost\"]           \n",
    ")\n",
    "prf"
   ]
  },
  {
   "cell_type": "markdown",
   "id": "34914d84",
   "metadata": {
    "papermill": {
     "duration": 0.031658,
     "end_time": "2024-04-10T14:31:40.006782",
     "exception": false,
     "start_time": "2024-04-10T14:31:39.975124",
     "status": "completed"
    },
    "tags": []
   },
   "source": [
    "- The KNN model gave the highest precision (0.74), followed closely by logistic regression (0.73).\n",
    "\n",
    "- The recall of all the 3 models was almost the same. Logistic regression marginally outperformed the others with a recall score of 0.78 as against 0.77 for KNN and XGBoost.\n",
    "\n",
    "- In terms of F1 score too, logistic regression outperformed the other 2 models, with an F1 score of 0.73 against 0.69 for the other 2 models. "
   ]
  },
  {
   "cell_type": "markdown",
   "id": "b0ccd810",
   "metadata": {
    "id": "xyBs2EoU0DMI",
    "papermill": {
     "duration": 0.032672,
     "end_time": "2024-04-10T14:31:40.071693",
     "exception": false,
     "start_time": "2024-04-10T14:31:40.039021",
     "status": "completed"
    },
    "tags": []
   },
   "source": [
    "### Comparison of Test Accuracies\n",
    "\n",
    "1.  KNN - 0.76264\n",
    "2.  **Logistic Regression - 0.78662 (Best Performing Model)**\n",
    "3.  XGBoost - 0.77386\n"
   ]
  },
  {
   "cell_type": "markdown",
   "id": "ff9c7420",
   "metadata": {
    "papermill": {
     "duration": 0.032089,
     "end_time": "2024-04-10T14:31:40.136880",
     "exception": false,
     "start_time": "2024-04-10T14:31:40.104791",
     "status": "completed"
    },
    "tags": []
   },
   "source": [
    "# Conclusion"
   ]
  },
  {
   "cell_type": "markdown",
   "id": "627cfb70",
   "metadata": {
    "papermill": {
     "duration": 0.033452,
     "end_time": "2024-04-10T14:31:40.202507",
     "exception": false,
     "start_time": "2024-04-10T14:31:40.169055",
     "status": "completed"
    },
    "tags": []
   },
   "source": [
    "- The dataset was highly imbalanced, affecting the accuracy of the models and the usefulness of some features.\n",
    "\n",
    "- The following 3 classification models were trained: \n",
    "    1. k-nearest neighbors, \n",
    "    2. logistic regression, and\n",
    "    3. xgboost\n",
    "    \n",
    "- Most of the features in the dataset were eliminated and the only feature used to train all the above models was `Recipe_Review`, which was a non-numeric, string type column. `Recipe_Review` was transformed using `TFIDFVectorizer`.\n",
    "\n",
    "- Logistic regression turned out turned out to be the best-performing model, not only in terms of accuracy but in recall score and f1-score as well."
   ]
  }
 ],
 "metadata": {
  "colab": {
   "collapsed_sections": [
    "_0oHpm69Exw3",
    "M7IdsiJFExw8"
   ],
   "provenance": [],
   "toc_visible": true
  },
  "kaggle": {
   "accelerator": "none",
   "dataSources": [
    {
     "databundleVersionId": 7452256,
     "sourceId": 67079,
     "sourceType": "competition"
    }
   ],
   "dockerImageVersionId": 30646,
   "isGpuEnabled": false,
   "isInternetEnabled": true,
   "language": "python",
   "sourceType": "notebook"
  },
  "kernelspec": {
   "display_name": "Python 3",
   "language": "python",
   "name": "python3"
  },
  "language_info": {
   "codemirror_mode": {
    "name": "ipython",
    "version": 3
   },
   "file_extension": ".py",
   "mimetype": "text/x-python",
   "name": "python",
   "nbconvert_exporter": "python",
   "pygments_lexer": "ipython3",
   "version": "3.10.13"
  },
  "papermill": {
   "default_parameters": {},
   "duration": 5200.159917,
   "end_time": "2024-04-10T14:31:41.381543",
   "environment_variables": {},
   "exception": null,
   "input_path": "__notebook__.ipynb",
   "output_path": "__notebook__.ipynb",
   "parameters": {},
   "start_time": "2024-04-10T13:05:01.221626",
   "version": "2.5.0"
  }
 },
 "nbformat": 4,
 "nbformat_minor": 5
}
